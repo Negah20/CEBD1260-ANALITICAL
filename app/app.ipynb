{
 "cells": [
  {
   "cell_type": "code",
   "execution_count": 19,
   "metadata": {
    "collapsed": true
   },
   "outputs": [],
   "source": [
    "from flask import Flask, render_template, request\n",
    "from sklearn.externals import joblib\n",
    "\n"
   ]
  },
  {
   "cell_type": "code",
   "execution_count": 20,
   "metadata": {
    "collapsed": true
   },
   "outputs": [],
   "source": [
    "app = Flask(__name__, static_url_path='/static/')\n",
    "@app.route(\"/\")\n",
    "def main():\n",
    "     return render_template('index.html')\n",
    "    \n",
    "@app.route('/predict_price', methods = ['POST', 'GET'])\n",
    "def predict_price():\n",
    "\n",
    "    # get the parameters\n",
    "    hour = float(request.form['hour'])\n",
    "    day = float(request.form['day'])\n",
    "    month = float(request.form['month'])\n",
    "    temperature = float(request.form['temperature'])\n",
    "  \n",
    "    # load the model and predict\n",
    "    model = joblib.load('../model/regression.pkl')\n",
    "    prediction = model.predict([[bedrooms, bathrooms, sqft_living15, grade, condition]])\n",
    "    predicted_price = prediction.round(1)[0]\n",
    "\n",
    "    return render_template('results.html',\n",
    "                           bedrooms=int(bedrooms),\n",
    "                           bathrooms=int(bathrooms),\n",
    "                           sqft_living15=int(sqft_living15),\n",
    "                           grade=int(grade),\n",
    "                           condition=int(condition),\n",
    "                           predicted_price=\"{:,}\".format(predicted_price)\n",
    "                           )\n",
    "\n"
   ]
  },
  {
   "cell_type": "code",
   "execution_count": 21,
   "metadata": {},
   "outputs": [
    {
     "name": "stderr",
     "output_type": "stream",
     "text": [
      " * Restarting with stat\n"
     ]
    },
    {
     "ename": "SystemExit",
     "evalue": "1",
     "output_type": "error",
     "traceback": [
      "An exception has occurred, use %tb to see the full traceback.\n",
      "\u001b[1;31mSystemExit\u001b[0m\u001b[1;31m:\u001b[0m 1\n"
     ]
    },
    {
     "name": "stderr",
     "output_type": "stream",
     "text": [
      "C:\\ProgramData\\Anaconda3\\lib\\site-packages\\IPython\\core\\interactiveshell.py:2870: UserWarning: To exit: use 'exit', 'quit', or Ctrl-D.\n",
      "  warn(\"To exit: use 'exit', 'quit', or Ctrl-D.\", stacklevel=1)\n"
     ]
    }
   ],
   "source": [
    "if __name__ == '__main__':\n",
    "    app.run(debug=True)\n"
   ]
  },
  {
   "cell_type": "code",
   "execution_count": null,
   "metadata": {
    "collapsed": true
   },
   "outputs": [],
   "source": []
  },
  {
   "cell_type": "code",
   "execution_count": null,
   "metadata": {
    "collapsed": true
   },
   "outputs": [],
   "source": []
  }
 ],
 "metadata": {
  "kernelspec": {
   "display_name": "Python 3",
   "language": "python",
   "name": "python3"
  },
  "language_info": {
   "codemirror_mode": {
    "name": "ipython",
    "version": 3
   },
   "file_extension": ".py",
   "mimetype": "text/x-python",
   "name": "python",
   "nbconvert_exporter": "python",
   "pygments_lexer": "ipython3",
   "version": "3.6.3"
  }
 },
 "nbformat": 4,
 "nbformat_minor": 2
}
