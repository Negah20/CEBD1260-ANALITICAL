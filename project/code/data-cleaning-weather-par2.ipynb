{
 "cells": [
  {
   "cell_type": "markdown",
   "metadata": {},
   "source": [
    ".pandas is a software library written for the Python programming language for data manipulation and analysis.\n",
    ".NumPymis a library for the Python programming language, adding support for large, multi-dimensional arrays and matrices, along with a large collection of high-level mathematical functions to operate on these arrays.\n",
    ".Matplotlib is a plotting library for Python. It is used along with NumPy to provide an environment that is an effective open source alternative for MatLab.\n",
    ".matplotlib.pyplot is a collection of command style functions that make matplotlib work like MATLAB.\n",
    ".Seaborn is a Python visualization library based on matplotlib. It provides a high-level interface for drawing attractive statistical graphics."
   ]
  },
  {
   "cell_type": "code",
   "execution_count": 1,
   "metadata": {},
   "outputs": [],
   "source": [
    "import pandas as pd\n",
    "import numpy  as np\n",
    "import matplotlib as mpl\n",
    "import matplotlib.pyplot as plt\n",
    "import seaborn as sns\n",
    "mpl.style.use('seaborn')"
   ]
  },
  {
   "cell_type": "markdown",
   "metadata": {},
   "source": [
    " We will create a model that attempts to predict the temperature in New York for a given month, day and hour."
   ]
  },
  {
   "cell_type": "markdown",
   "metadata": {},
   "source": [
    "preparing data"
   ]
  },
  {
   "cell_type": "code",
   "execution_count": 2,
   "metadata": {},
   "outputs": [
    {
     "data": {
      "text/html": [
       "<div>\n",
       "<style scoped>\n",
       "    .dataframe tbody tr th:only-of-type {\n",
       "        vertical-align: middle;\n",
       "    }\n",
       "\n",
       "    .dataframe tbody tr th {\n",
       "        vertical-align: top;\n",
       "    }\n",
       "\n",
       "    .dataframe thead th {\n",
       "        text-align: right;\n",
       "    }\n",
       "</style>\n",
       "<table border=\"1\" class=\"dataframe\">\n",
       "  <thead>\n",
       "    <tr style=\"text-align: right;\">\n",
       "      <th></th>\n",
       "      <th>datetime</th>\n",
       "      <th>Vancouver</th>\n",
       "      <th>Portland</th>\n",
       "      <th>San Francisco</th>\n",
       "      <th>Seattle</th>\n",
       "      <th>Los Angeles</th>\n",
       "      <th>San Diego</th>\n",
       "      <th>Las Vegas</th>\n",
       "      <th>Phoenix</th>\n",
       "      <th>Albuquerque</th>\n",
       "      <th>...</th>\n",
       "      <th>Philadelphia</th>\n",
       "      <th>New York</th>\n",
       "      <th>Montreal</th>\n",
       "      <th>Boston</th>\n",
       "      <th>Beersheba</th>\n",
       "      <th>Tel Aviv District</th>\n",
       "      <th>Eilat</th>\n",
       "      <th>Haifa</th>\n",
       "      <th>Nahariyya</th>\n",
       "      <th>Jerusalem</th>\n",
       "    </tr>\n",
       "  </thead>\n",
       "  <tbody>\n",
       "    <tr>\n",
       "      <th>38388</th>\n",
       "      <td>2017-02-17 00:00:00</td>\n",
       "      <td>280.355</td>\n",
       "      <td>279.95500</td>\n",
       "      <td>286.105000</td>\n",
       "      <td>281.805000</td>\n",
       "      <td>291.155000</td>\n",
       "      <td>291.680000</td>\n",
       "      <td>291.905000</td>\n",
       "      <td>293.305000</td>\n",
       "      <td>284.180000</td>\n",
       "      <td>...</td>\n",
       "      <td>272.955000</td>\n",
       "      <td>271.33</td>\n",
       "      <td>268.655</td>\n",
       "      <td>273.580000</td>\n",
       "      <td>276.005</td>\n",
       "      <td>274.905</td>\n",
       "      <td>278.905</td>\n",
       "      <td>285.680</td>\n",
       "      <td>285.68</td>\n",
       "      <td>274.180</td>\n",
       "    </tr>\n",
       "    <tr>\n",
       "      <th>1284</th>\n",
       "      <td>2012-11-24 00:00:00</td>\n",
       "      <td>280.710</td>\n",
       "      <td>280.91000</td>\n",
       "      <td>289.230000</td>\n",
       "      <td>280.530000</td>\n",
       "      <td>291.450000</td>\n",
       "      <td>289.810000</td>\n",
       "      <td>294.260000</td>\n",
       "      <td>296.770000</td>\n",
       "      <td>283.990000</td>\n",
       "      <td>...</td>\n",
       "      <td>278.110000</td>\n",
       "      <td>278.98</td>\n",
       "      <td>279.510</td>\n",
       "      <td>277.760000</td>\n",
       "      <td>288.710</td>\n",
       "      <td>289.150</td>\n",
       "      <td>291.150</td>\n",
       "      <td>292.710</td>\n",
       "      <td>292.71</td>\n",
       "      <td>289.360</td>\n",
       "    </tr>\n",
       "    <tr>\n",
       "      <th>28900</th>\n",
       "      <td>2016-01-18 16:00:00</td>\n",
       "      <td>279.940</td>\n",
       "      <td>278.68472</td>\n",
       "      <td>285.178008</td>\n",
       "      <td>279.988876</td>\n",
       "      <td>285.716572</td>\n",
       "      <td>285.564215</td>\n",
       "      <td>278.791371</td>\n",
       "      <td>279.812309</td>\n",
       "      <td>270.220909</td>\n",
       "      <td>...</td>\n",
       "      <td>266.522207</td>\n",
       "      <td>268.93</td>\n",
       "      <td>265.270</td>\n",
       "      <td>269.767166</td>\n",
       "      <td>281.018</td>\n",
       "      <td>287.560</td>\n",
       "      <td>289.350</td>\n",
       "      <td>285.150</td>\n",
       "      <td>285.15</td>\n",
       "      <td>287.580</td>\n",
       "    </tr>\n",
       "    <tr>\n",
       "      <th>9195</th>\n",
       "      <td>2013-10-19 15:00:00</td>\n",
       "      <td>279.460</td>\n",
       "      <td>278.42000</td>\n",
       "      <td>286.500000</td>\n",
       "      <td>279.880000</td>\n",
       "      <td>288.230000</td>\n",
       "      <td>288.010000</td>\n",
       "      <td>287.133333</td>\n",
       "      <td>288.190000</td>\n",
       "      <td>278.946667</td>\n",
       "      <td>...</td>\n",
       "      <td>286.300000</td>\n",
       "      <td>287.72</td>\n",
       "      <td>286.410</td>\n",
       "      <td>289.350000</td>\n",
       "      <td>293.837</td>\n",
       "      <td>296.250</td>\n",
       "      <td>302.150</td>\n",
       "      <td>294.545</td>\n",
       "      <td>293.29</td>\n",
       "      <td>292.277</td>\n",
       "    </tr>\n",
       "    <tr>\n",
       "      <th>3597</th>\n",
       "      <td>2013-02-28 09:00:00</td>\n",
       "      <td>276.980</td>\n",
       "      <td>278.80000</td>\n",
       "      <td>279.510000</td>\n",
       "      <td>278.020000</td>\n",
       "      <td>283.620000</td>\n",
       "      <td>283.770000</td>\n",
       "      <td>277.830000</td>\n",
       "      <td>281.660000</td>\n",
       "      <td>265.710000</td>\n",
       "      <td>...</td>\n",
       "      <td>278.440000</td>\n",
       "      <td>276.89</td>\n",
       "      <td>274.330</td>\n",
       "      <td>276.050000</td>\n",
       "      <td>295.400</td>\n",
       "      <td>292.790</td>\n",
       "      <td>294.500</td>\n",
       "      <td>292.800</td>\n",
       "      <td>292.80</td>\n",
       "      <td>295.700</td>\n",
       "    </tr>\n",
       "  </tbody>\n",
       "</table>\n",
       "<p>5 rows × 37 columns</p>\n",
       "</div>"
      ],
      "text/plain": [
       "                 datetime  Vancouver   Portland  San Francisco     Seattle  \\\n",
       "38388 2017-02-17 00:00:00    280.355  279.95500     286.105000  281.805000   \n",
       "1284  2012-11-24 00:00:00    280.710  280.91000     289.230000  280.530000   \n",
       "28900 2016-01-18 16:00:00    279.940  278.68472     285.178008  279.988876   \n",
       "9195  2013-10-19 15:00:00    279.460  278.42000     286.500000  279.880000   \n",
       "3597  2013-02-28 09:00:00    276.980  278.80000     279.510000  278.020000   \n",
       "\n",
       "       Los Angeles   San Diego   Las Vegas     Phoenix  Albuquerque  \\\n",
       "38388   291.155000  291.680000  291.905000  293.305000   284.180000   \n",
       "1284    291.450000  289.810000  294.260000  296.770000   283.990000   \n",
       "28900   285.716572  285.564215  278.791371  279.812309   270.220909   \n",
       "9195    288.230000  288.010000  287.133333  288.190000   278.946667   \n",
       "3597    283.620000  283.770000  277.830000  281.660000   265.710000   \n",
       "\n",
       "         ...      Philadelphia  New York  Montreal      Boston  Beersheba  \\\n",
       "38388    ...        272.955000    271.33   268.655  273.580000    276.005   \n",
       "1284     ...        278.110000    278.98   279.510  277.760000    288.710   \n",
       "28900    ...        266.522207    268.93   265.270  269.767166    281.018   \n",
       "9195     ...        286.300000    287.72   286.410  289.350000    293.837   \n",
       "3597     ...        278.440000    276.89   274.330  276.050000    295.400   \n",
       "\n",
       "       Tel Aviv District    Eilat    Haifa  Nahariyya  Jerusalem  \n",
       "38388            274.905  278.905  285.680     285.68    274.180  \n",
       "1284             289.150  291.150  292.710     292.71    289.360  \n",
       "28900            287.560  289.350  285.150     285.15    287.580  \n",
       "9195             296.250  302.150  294.545     293.29    292.277  \n",
       "3597             292.790  294.500  292.800     292.80    295.700  \n",
       "\n",
       "[5 rows x 37 columns]"
      ]
     },
     "execution_count": 2,
     "metadata": {},
     "output_type": "execute_result"
    }
   ],
   "source": [
    "city_temp=pd.read_csv(\"../data/raw/temperature.csv\", parse_dates=['datetime'])\n",
    "city_humid=pd.read_csv(\"../data/raw/humidity.csv\",parse_dates=['datetime'])\n",
    "city_press=pd.read_csv(\"../data/raw/pressure.csv\",parse_dates=['datetime'])\n",
    "city_speed=pd.read_csv(\"../data/raw/wind_speed.csv\",parse_dates=['datetime'])\n",
    "city_dir=pd.read_csv(\"../data/raw/wind_direction.csv\",parse_dates=['datetime'])\n",
    "city_temp.sample(5)"
   ]
  },
  {
   "cell_type": "markdown",
   "metadata": {},
   "source": [
    "For each city we have timeseries in a column. We are going to chose New York as our chosen city and temperature as our chosen feature. It is better to convert the temperature to Celsius."
   ]
  },
  {
   "cell_type": "code",
   "execution_count": 3,
   "metadata": {},
   "outputs": [],
   "source": [
    "data=city_temp[['datetime','New York']]\n",
    "data=data.rename(columns={'New York':'temperature'})\n",
    "data.head(5)\n",
    "data['hour'] = data.datetime.dt.hour\n",
    "sample = data[:168]"
   ]
  },
  {
   "cell_type": "code",
   "execution_count": 4,
   "metadata": {},
   "outputs": [],
   "source": [
    "data_humid=city_humid[['datetime','New York']]\n",
    "data_humid=data_humid.rename(columns={'New York':'humidity'})\n"
   ]
  },
  {
   "cell_type": "code",
   "execution_count": 5,
   "metadata": {},
   "outputs": [
    {
     "data": {
      "text/html": [
       "<div>\n",
       "<style scoped>\n",
       "    .dataframe tbody tr th:only-of-type {\n",
       "        vertical-align: middle;\n",
       "    }\n",
       "\n",
       "    .dataframe tbody tr th {\n",
       "        vertical-align: top;\n",
       "    }\n",
       "\n",
       "    .dataframe thead th {\n",
       "        text-align: right;\n",
       "    }\n",
       "</style>\n",
       "<table border=\"1\" class=\"dataframe\">\n",
       "  <thead>\n",
       "    <tr style=\"text-align: right;\">\n",
       "      <th></th>\n",
       "      <th>datetime</th>\n",
       "      <th>Vancouver</th>\n",
       "      <th>Portland</th>\n",
       "      <th>San Francisco</th>\n",
       "      <th>Seattle</th>\n",
       "      <th>Los Angeles</th>\n",
       "      <th>San Diego</th>\n",
       "      <th>Las Vegas</th>\n",
       "      <th>Phoenix</th>\n",
       "      <th>Albuquerque</th>\n",
       "      <th>...</th>\n",
       "      <th>Philadelphia</th>\n",
       "      <th>New York</th>\n",
       "      <th>Montreal</th>\n",
       "      <th>Boston</th>\n",
       "      <th>Beersheba</th>\n",
       "      <th>Tel Aviv District</th>\n",
       "      <th>Eilat</th>\n",
       "      <th>Haifa</th>\n",
       "      <th>Nahariyya</th>\n",
       "      <th>Jerusalem</th>\n",
       "    </tr>\n",
       "  </thead>\n",
       "  <tbody>\n",
       "    <tr>\n",
       "      <th>8006</th>\n",
       "      <td>2013-08-31 02:00:00</td>\n",
       "      <td>1012.0</td>\n",
       "      <td>1014.0</td>\n",
       "      <td>1017.0</td>\n",
       "      <td>1036.0</td>\n",
       "      <td>1013.0</td>\n",
       "      <td>1011.0</td>\n",
       "      <td>1008.0</td>\n",
       "      <td>999.0</td>\n",
       "      <td>1010.0</td>\n",
       "      <td>...</td>\n",
       "      <td>1017.0</td>\n",
       "      <td>1016.0</td>\n",
       "      <td>1015.0</td>\n",
       "      <td>1017.0</td>\n",
       "      <td>986.0</td>\n",
       "      <td>1007.0</td>\n",
       "      <td>1007.0</td>\n",
       "      <td>1008.0</td>\n",
       "      <td>1008.0</td>\n",
       "      <td>986.0</td>\n",
       "    </tr>\n",
       "    <tr>\n",
       "      <th>23925</th>\n",
       "      <td>2015-06-25 09:00:00</td>\n",
       "      <td>1019.0</td>\n",
       "      <td>1003.0</td>\n",
       "      <td>1018.0</td>\n",
       "      <td>1022.0</td>\n",
       "      <td>966.0</td>\n",
       "      <td>984.0</td>\n",
       "      <td>930.0</td>\n",
       "      <td>975.0</td>\n",
       "      <td>867.0</td>\n",
       "      <td>...</td>\n",
       "      <td>1025.0</td>\n",
       "      <td>1015.0</td>\n",
       "      <td>1016.0</td>\n",
       "      <td>1027.0</td>\n",
       "      <td>989.0</td>\n",
       "      <td>1012.0</td>\n",
       "      <td>956.0</td>\n",
       "      <td>1019.0</td>\n",
       "      <td>1019.0</td>\n",
       "      <td>996.0</td>\n",
       "    </tr>\n",
       "    <tr>\n",
       "      <th>22937</th>\n",
       "      <td>2015-05-15 05:00:00</td>\n",
       "      <td>1013.0</td>\n",
       "      <td>1023.0</td>\n",
       "      <td>1024.0</td>\n",
       "      <td>1024.0</td>\n",
       "      <td>1025.0</td>\n",
       "      <td>1025.0</td>\n",
       "      <td>1020.0</td>\n",
       "      <td>1022.0</td>\n",
       "      <td>1019.0</td>\n",
       "      <td>...</td>\n",
       "      <td>1040.0</td>\n",
       "      <td>1026.0</td>\n",
       "      <td>1031.0</td>\n",
       "      <td>1038.0</td>\n",
       "      <td>998.0</td>\n",
       "      <td>1025.0</td>\n",
       "      <td>964.0</td>\n",
       "      <td>1025.0</td>\n",
       "      <td>999.0</td>\n",
       "      <td>1033.0</td>\n",
       "    </tr>\n",
       "    <tr>\n",
       "      <th>35754</th>\n",
       "      <td>2016-10-30 06:00:00</td>\n",
       "      <td>1008.0</td>\n",
       "      <td>992.0</td>\n",
       "      <td>1017.0</td>\n",
       "      <td>1017.0</td>\n",
       "      <td>962.0</td>\n",
       "      <td>982.0</td>\n",
       "      <td>918.0</td>\n",
       "      <td>974.0</td>\n",
       "      <td>849.0</td>\n",
       "      <td>...</td>\n",
       "      <td>1020.0</td>\n",
       "      <td>1023.0</td>\n",
       "      <td>1015.0</td>\n",
       "      <td>1020.0</td>\n",
       "      <td>990.0</td>\n",
       "      <td>1010.0</td>\n",
       "      <td>973.0</td>\n",
       "      <td>1028.0</td>\n",
       "      <td>1028.0</td>\n",
       "      <td>1003.0</td>\n",
       "    </tr>\n",
       "    <tr>\n",
       "      <th>34600</th>\n",
       "      <td>2016-09-12 04:00:00</td>\n",
       "      <td>1021.0</td>\n",
       "      <td>1019.0</td>\n",
       "      <td>1015.0</td>\n",
       "      <td>1022.0</td>\n",
       "      <td>1016.0</td>\n",
       "      <td>1016.0</td>\n",
       "      <td>1011.0</td>\n",
       "      <td>1011.0</td>\n",
       "      <td>1024.0</td>\n",
       "      <td>...</td>\n",
       "      <td>1021.0</td>\n",
       "      <td>1021.0</td>\n",
       "      <td>1020.0</td>\n",
       "      <td>1019.0</td>\n",
       "      <td>985.0</td>\n",
       "      <td>1012.0</td>\n",
       "      <td>1011.0</td>\n",
       "      <td>1012.0</td>\n",
       "      <td>1012.0</td>\n",
       "      <td>1012.0</td>\n",
       "    </tr>\n",
       "  </tbody>\n",
       "</table>\n",
       "<p>5 rows × 37 columns</p>\n",
       "</div>"
      ],
      "text/plain": [
       "                 datetime  Vancouver  Portland  San Francisco  Seattle  \\\n",
       "8006  2013-08-31 02:00:00     1012.0    1014.0         1017.0   1036.0   \n",
       "23925 2015-06-25 09:00:00     1019.0    1003.0         1018.0   1022.0   \n",
       "22937 2015-05-15 05:00:00     1013.0    1023.0         1024.0   1024.0   \n",
       "35754 2016-10-30 06:00:00     1008.0     992.0         1017.0   1017.0   \n",
       "34600 2016-09-12 04:00:00     1021.0    1019.0         1015.0   1022.0   \n",
       "\n",
       "       Los Angeles  San Diego  Las Vegas  Phoenix  Albuquerque    ...      \\\n",
       "8006        1013.0     1011.0     1008.0    999.0       1010.0    ...       \n",
       "23925        966.0      984.0      930.0    975.0        867.0    ...       \n",
       "22937       1025.0     1025.0     1020.0   1022.0       1019.0    ...       \n",
       "35754        962.0      982.0      918.0    974.0        849.0    ...       \n",
       "34600       1016.0     1016.0     1011.0   1011.0       1024.0    ...       \n",
       "\n",
       "       Philadelphia  New York  Montreal  Boston  Beersheba  Tel Aviv District  \\\n",
       "8006         1017.0    1016.0    1015.0  1017.0      986.0             1007.0   \n",
       "23925        1025.0    1015.0    1016.0  1027.0      989.0             1012.0   \n",
       "22937        1040.0    1026.0    1031.0  1038.0      998.0             1025.0   \n",
       "35754        1020.0    1023.0    1015.0  1020.0      990.0             1010.0   \n",
       "34600        1021.0    1021.0    1020.0  1019.0      985.0             1012.0   \n",
       "\n",
       "        Eilat   Haifa  Nahariyya  Jerusalem  \n",
       "8006   1007.0  1008.0     1008.0      986.0  \n",
       "23925   956.0  1019.0     1019.0      996.0  \n",
       "22937   964.0  1025.0      999.0     1033.0  \n",
       "35754   973.0  1028.0     1028.0     1003.0  \n",
       "34600  1011.0  1012.0     1012.0     1012.0  \n",
       "\n",
       "[5 rows x 37 columns]"
      ]
     },
     "execution_count": 5,
     "metadata": {},
     "output_type": "execute_result"
    }
   ],
   "source": [
    "city_press.sample(5)"
   ]
  },
  {
   "cell_type": "code",
   "execution_count": 6,
   "metadata": {},
   "outputs": [
    {
     "data": {
      "text/html": [
       "<div>\n",
       "<style scoped>\n",
       "    .dataframe tbody tr th:only-of-type {\n",
       "        vertical-align: middle;\n",
       "    }\n",
       "\n",
       "    .dataframe tbody tr th {\n",
       "        vertical-align: top;\n",
       "    }\n",
       "\n",
       "    .dataframe thead th {\n",
       "        text-align: right;\n",
       "    }\n",
       "</style>\n",
       "<table border=\"1\" class=\"dataframe\">\n",
       "  <thead>\n",
       "    <tr style=\"text-align: right;\">\n",
       "      <th></th>\n",
       "      <th>datetime</th>\n",
       "      <th>pressure</th>\n",
       "    </tr>\n",
       "  </thead>\n",
       "  <tbody>\n",
       "    <tr>\n",
       "      <th>0</th>\n",
       "      <td>2012-10-01 12:00:00</td>\n",
       "      <td>NaN</td>\n",
       "    </tr>\n",
       "    <tr>\n",
       "      <th>1</th>\n",
       "      <td>2012-10-01 13:00:00</td>\n",
       "      <td>1012.0</td>\n",
       "    </tr>\n",
       "    <tr>\n",
       "      <th>2</th>\n",
       "      <td>2012-10-01 14:00:00</td>\n",
       "      <td>1012.0</td>\n",
       "    </tr>\n",
       "    <tr>\n",
       "      <th>3</th>\n",
       "      <td>2012-10-01 15:00:00</td>\n",
       "      <td>1012.0</td>\n",
       "    </tr>\n",
       "    <tr>\n",
       "      <th>4</th>\n",
       "      <td>2012-10-01 16:00:00</td>\n",
       "      <td>1012.0</td>\n",
       "    </tr>\n",
       "  </tbody>\n",
       "</table>\n",
       "</div>"
      ],
      "text/plain": [
       "             datetime  pressure\n",
       "0 2012-10-01 12:00:00       NaN\n",
       "1 2012-10-01 13:00:00    1012.0\n",
       "2 2012-10-01 14:00:00    1012.0\n",
       "3 2012-10-01 15:00:00    1012.0\n",
       "4 2012-10-01 16:00:00    1012.0"
      ]
     },
     "execution_count": 6,
     "metadata": {},
     "output_type": "execute_result"
    }
   ],
   "source": [
    "data_press=city_press[['datetime','New York']]\n",
    "data_press=data_press.rename(columns={'New York':'pressure'})\n",
    "data_press.head(5)"
   ]
  },
  {
   "cell_type": "code",
   "execution_count": 7,
   "metadata": {},
   "outputs": [
    {
     "data": {
      "text/html": [
       "<div>\n",
       "<style scoped>\n",
       "    .dataframe tbody tr th:only-of-type {\n",
       "        vertical-align: middle;\n",
       "    }\n",
       "\n",
       "    .dataframe tbody tr th {\n",
       "        vertical-align: top;\n",
       "    }\n",
       "\n",
       "    .dataframe thead th {\n",
       "        text-align: right;\n",
       "    }\n",
       "</style>\n",
       "<table border=\"1\" class=\"dataframe\">\n",
       "  <thead>\n",
       "    <tr style=\"text-align: right;\">\n",
       "      <th></th>\n",
       "      <th>datetime</th>\n",
       "      <th>wind_speed</th>\n",
       "    </tr>\n",
       "  </thead>\n",
       "  <tbody>\n",
       "    <tr>\n",
       "      <th>0</th>\n",
       "      <td>2012-10-01 12:00:00</td>\n",
       "      <td>NaN</td>\n",
       "    </tr>\n",
       "    <tr>\n",
       "      <th>1</th>\n",
       "      <td>2012-10-01 13:00:00</td>\n",
       "      <td>7.0</td>\n",
       "    </tr>\n",
       "    <tr>\n",
       "      <th>2</th>\n",
       "      <td>2012-10-01 14:00:00</td>\n",
       "      <td>7.0</td>\n",
       "    </tr>\n",
       "    <tr>\n",
       "      <th>3</th>\n",
       "      <td>2012-10-01 15:00:00</td>\n",
       "      <td>7.0</td>\n",
       "    </tr>\n",
       "    <tr>\n",
       "      <th>4</th>\n",
       "      <td>2012-10-01 16:00:00</td>\n",
       "      <td>7.0</td>\n",
       "    </tr>\n",
       "  </tbody>\n",
       "</table>\n",
       "</div>"
      ],
      "text/plain": [
       "             datetime  wind_speed\n",
       "0 2012-10-01 12:00:00         NaN\n",
       "1 2012-10-01 13:00:00         7.0\n",
       "2 2012-10-01 14:00:00         7.0\n",
       "3 2012-10-01 15:00:00         7.0\n",
       "4 2012-10-01 16:00:00         7.0"
      ]
     },
     "execution_count": 7,
     "metadata": {},
     "output_type": "execute_result"
    }
   ],
   "source": [
    "data_speed=city_speed[['datetime','New York']]\n",
    "data_speed=data_speed.rename(columns={'New York':'wind_speed'})\n",
    "data_speed.head(5)"
   ]
  },
  {
   "cell_type": "code",
   "execution_count": 8,
   "metadata": {},
   "outputs": [
    {
     "data": {
      "text/html": [
       "<div>\n",
       "<style scoped>\n",
       "    .dataframe tbody tr th:only-of-type {\n",
       "        vertical-align: middle;\n",
       "    }\n",
       "\n",
       "    .dataframe tbody tr th {\n",
       "        vertical-align: top;\n",
       "    }\n",
       "\n",
       "    .dataframe thead th {\n",
       "        text-align: right;\n",
       "    }\n",
       "</style>\n",
       "<table border=\"1\" class=\"dataframe\">\n",
       "  <thead>\n",
       "    <tr style=\"text-align: right;\">\n",
       "      <th></th>\n",
       "      <th>datetime</th>\n",
       "      <th>wind_direction</th>\n",
       "    </tr>\n",
       "  </thead>\n",
       "  <tbody>\n",
       "    <tr>\n",
       "      <th>0</th>\n",
       "      <td>2012-10-01 12:00:00</td>\n",
       "      <td>NaN</td>\n",
       "    </tr>\n",
       "    <tr>\n",
       "      <th>1</th>\n",
       "      <td>2012-10-01 13:00:00</td>\n",
       "      <td>260.0</td>\n",
       "    </tr>\n",
       "    <tr>\n",
       "      <th>2</th>\n",
       "      <td>2012-10-01 14:00:00</td>\n",
       "      <td>260.0</td>\n",
       "    </tr>\n",
       "    <tr>\n",
       "      <th>3</th>\n",
       "      <td>2012-10-01 15:00:00</td>\n",
       "      <td>260.0</td>\n",
       "    </tr>\n",
       "    <tr>\n",
       "      <th>4</th>\n",
       "      <td>2012-10-01 16:00:00</td>\n",
       "      <td>260.0</td>\n",
       "    </tr>\n",
       "  </tbody>\n",
       "</table>\n",
       "</div>"
      ],
      "text/plain": [
       "             datetime  wind_direction\n",
       "0 2012-10-01 12:00:00             NaN\n",
       "1 2012-10-01 13:00:00           260.0\n",
       "2 2012-10-01 14:00:00           260.0\n",
       "3 2012-10-01 15:00:00           260.0\n",
       "4 2012-10-01 16:00:00           260.0"
      ]
     },
     "execution_count": 8,
     "metadata": {},
     "output_type": "execute_result"
    }
   ],
   "source": [
    "data_dir=city_dir[['datetime','New York']]\n",
    "data_dir=data_dir.rename(columns={'New York':'wind_direction'})\n",
    "data_dir.head(5)"
   ]
  },
  {
   "cell_type": "markdown",
   "metadata": {},
   "source": [
    "we havesome missing value. All features's tend to be constant from one hour to the next, so we can use backfill to replace any missing values and drop the rest."
   ]
  },
  {
   "cell_type": "code",
   "execution_count": 9,
   "metadata": {},
   "outputs": [],
   "source": [
    "data = data.fillna(method = 'bfill', axis=0).dropna()\n",
    "data_press = data_press.fillna(method = 'bfill', axis=0).dropna()\n",
    "data_humid = data_humid.fillna(method = 'bfill', axis=0).dropna()\n",
    "data_dir = data_dir.fillna(method = 'bfill', axis=0).dropna()\n",
    "data_speed = data_speed.fillna(method = 'bfill', axis=0).dropna()"
   ]
  },
  {
   "cell_type": "code",
   "execution_count": 10,
   "metadata": {},
   "outputs": [],
   "source": [
    "total_data=pd.concat([data,data_humid['humidity'],data_press['pressure'],data_speed['wind_speed'],data_dir['wind_direction']], axis=1)"
   ]
  },
  {
   "cell_type": "code",
   "execution_count": 11,
   "metadata": {},
   "outputs": [
    {
     "data": {
      "text/html": [
       "<div>\n",
       "<style scoped>\n",
       "    .dataframe tbody tr th:only-of-type {\n",
       "        vertical-align: middle;\n",
       "    }\n",
       "\n",
       "    .dataframe tbody tr th {\n",
       "        vertical-align: top;\n",
       "    }\n",
       "\n",
       "    .dataframe thead th {\n",
       "        text-align: right;\n",
       "    }\n",
       "</style>\n",
       "<table border=\"1\" class=\"dataframe\">\n",
       "  <thead>\n",
       "    <tr style=\"text-align: right;\">\n",
       "      <th></th>\n",
       "      <th>datetime</th>\n",
       "      <th>temperature</th>\n",
       "      <th>hour</th>\n",
       "      <th>humidity</th>\n",
       "      <th>pressure</th>\n",
       "      <th>wind_speed</th>\n",
       "      <th>wind_direction</th>\n",
       "    </tr>\n",
       "  </thead>\n",
       "  <tbody>\n",
       "    <tr>\n",
       "      <th>0</th>\n",
       "      <td>2012-10-01 12:00:00</td>\n",
       "      <td>288.220000</td>\n",
       "      <td>12</td>\n",
       "      <td>58.0</td>\n",
       "      <td>1012.0</td>\n",
       "      <td>7.0</td>\n",
       "      <td>260.0</td>\n",
       "    </tr>\n",
       "    <tr>\n",
       "      <th>1</th>\n",
       "      <td>2012-10-01 13:00:00</td>\n",
       "      <td>288.220000</td>\n",
       "      <td>13</td>\n",
       "      <td>58.0</td>\n",
       "      <td>1012.0</td>\n",
       "      <td>7.0</td>\n",
       "      <td>260.0</td>\n",
       "    </tr>\n",
       "    <tr>\n",
       "      <th>2</th>\n",
       "      <td>2012-10-01 14:00:00</td>\n",
       "      <td>288.247676</td>\n",
       "      <td>14</td>\n",
       "      <td>57.0</td>\n",
       "      <td>1012.0</td>\n",
       "      <td>7.0</td>\n",
       "      <td>260.0</td>\n",
       "    </tr>\n",
       "    <tr>\n",
       "      <th>3</th>\n",
       "      <td>2012-10-01 15:00:00</td>\n",
       "      <td>288.326940</td>\n",
       "      <td>15</td>\n",
       "      <td>57.0</td>\n",
       "      <td>1012.0</td>\n",
       "      <td>7.0</td>\n",
       "      <td>260.0</td>\n",
       "    </tr>\n",
       "    <tr>\n",
       "      <th>4</th>\n",
       "      <td>2012-10-01 16:00:00</td>\n",
       "      <td>288.406203</td>\n",
       "      <td>16</td>\n",
       "      <td>57.0</td>\n",
       "      <td>1012.0</td>\n",
       "      <td>7.0</td>\n",
       "      <td>260.0</td>\n",
       "    </tr>\n",
       "  </tbody>\n",
       "</table>\n",
       "</div>"
      ],
      "text/plain": [
       "             datetime  temperature  hour  humidity  pressure  wind_speed  \\\n",
       "0 2012-10-01 12:00:00   288.220000    12      58.0    1012.0         7.0   \n",
       "1 2012-10-01 13:00:00   288.220000    13      58.0    1012.0         7.0   \n",
       "2 2012-10-01 14:00:00   288.247676    14      57.0    1012.0         7.0   \n",
       "3 2012-10-01 15:00:00   288.326940    15      57.0    1012.0         7.0   \n",
       "4 2012-10-01 16:00:00   288.406203    16      57.0    1012.0         7.0   \n",
       "\n",
       "   wind_direction  \n",
       "0           260.0  \n",
       "1           260.0  \n",
       "2           260.0  \n",
       "3           260.0  \n",
       "4           260.0  "
      ]
     },
     "execution_count": 11,
     "metadata": {},
     "output_type": "execute_result"
    }
   ],
   "source": [
    "total_data.head(5)"
   ]
  },
  {
   "cell_type": "markdown",
   "metadata": {},
   "source": [
    "There is no missing value and there is no outlayer so our data looks good."
   ]
  },
  {
   "cell_type": "markdown",
   "metadata": {},
   "source": [
    "# feature engineering"
   ]
  },
  {
   "cell_type": "code",
   "execution_count": 12,
   "metadata": {},
   "outputs": [],
   "source": [
    "#convert kelvin to celsios\n",
    "total_data[\"temperature\"].describe()\n",
    "total_data[\"temperature\"]=total_data[\"temperature\"] - 273.15"
   ]
  },
  {
   "cell_type": "code",
   "execution_count": 13,
   "metadata": {},
   "outputs": [
    {
     "name": "stdout",
     "output_type": "stream",
     "text": [
      "count    44461.000000\n",
      "mean        12.250469\n",
      "std         10.220826\n",
      "min        -22.376000\n",
      "25%          4.220000\n",
      "50%         12.720000\n",
      "75%         20.610000\n",
      "max         37.090000\n",
      "Name: temperature, dtype: float64\n"
     ]
    },
    {
     "data": {
      "image/png": "[encoded data removed]",
      "text/plain": [
       "<matplotlib.figure.Figure at 0x199010a9940>"
      ]
     },
     "metadata": {},
     "output_type": "display_data"
    }
   ],
   "source": [
    "print(total_data.temperature.describe())\n",
    "plot = sns.distplot(total_data.temperature)"
   ]
  },
  {
   "cell_type": "code",
   "execution_count": 14,
   "metadata": {
    "scrolled": false
   },
   "outputs": [
    {
     "name": "stdout",
     "output_type": "stream",
     "text": [
      "count    44461.000000\n",
      "mean        66.516790\n",
      "std         19.884897\n",
      "min         10.000000\n",
      "25%         51.000000\n",
      "50%         68.000000\n",
      "75%         83.000000\n",
      "max        100.000000\n",
      "Name: humidity, dtype: float64\n"
     ]
    },
    {
     "data": {
      "image/png": "[encoded data removed]",
      "text/plain": [
       "<matplotlib.figure.Figure at 0x1990127b908>"
      ]
     },
     "metadata": {},
     "output_type": "display_data"
    }
   ],
   "source": [
    "print(total_data.humidity.describe())\n",
    "plot = sns.distplot(total_data.humidity)"
   ]
  },
  {
   "cell_type": "code",
   "execution_count": 15,
   "metadata": {},
   "outputs": [
    {
     "name": "stdout",
     "output_type": "stream",
     "text": [
      "count    44461.000000\n",
      "mean      1017.021142\n",
      "std         10.113110\n",
      "min        959.000000\n",
      "25%       1012.000000\n",
      "50%       1017.000000\n",
      "75%       1023.000000\n",
      "max       1052.000000\n",
      "Name: pressure, dtype: float64\n"
     ]
    },
    {
     "data": {
      "image/png": "[encoded data removed]",
      "text/plain": [
       "<matplotlib.figure.Figure at 0x199010dd5f8>"
      ]
     },
     "metadata": {},
     "output_type": "display_data"
    }
   ],
   "source": [
    "print(total_data.pressure.describe())\n",
    "plot = sns.distplot(total_data.pressure)"
   ]
  },
  {
   "cell_type": "code",
   "execution_count": 16,
   "metadata": {},
   "outputs": [
    {
     "name": "stdout",
     "output_type": "stream",
     "text": [
      "count    44461.000000\n",
      "mean         3.211039\n",
      "std          2.189765\n",
      "min          0.000000\n",
      "25%          2.000000\n",
      "50%          3.000000\n",
      "75%          4.000000\n",
      "max         25.000000\n",
      "Name: wind_speed, dtype: float64\n"
     ]
    },
    {
     "data": {
      "image/png": "[encoded data removed]",
      "text/plain": [
       "<matplotlib.figure.Figure at 0x19901332160>"
      ]
     },
     "metadata": {},
     "output_type": "display_data"
    }
   ],
   "source": [
    "print(total_data.wind_speed.describe())\n",
    "plot = sns.distplot(total_data.wind_speed)"
   ]
  },
  {
   "cell_type": "code",
   "execution_count": 17,
   "metadata": {},
   "outputs": [
    {
     "name": "stdout",
     "output_type": "stream",
     "text": [
      "count    44461.000000\n",
      "mean       196.251681\n",
      "std        107.432893\n",
      "min          0.000000\n",
      "25%        104.000000\n",
      "50%        220.000000\n",
      "75%        289.000000\n",
      "max        360.000000\n",
      "Name: wind_direction, dtype: float64\n"
     ]
    },
    {
     "data": {
      "image/png": "[encoded data removed]",
      "text/plain": [
       "<matplotlib.figure.Figure at 0x19901349be0>"
      ]
     },
     "metadata": {},
     "output_type": "display_data"
    }
   ],
   "source": [
    "print(total_data.wind_direction.describe())\n",
    "plot = sns.distplot(total_data.wind_direction)"
   ]
  },
  {
   "cell_type": "code",
   "execution_count": 18,
   "metadata": {},
   "outputs": [
    {
     "data": {
      "text/plain": [
       "<matplotlib.axes._subplots.AxesSubplot at 0x1990173e978>"
      ]
     },
     "execution_count": 18,
     "metadata": {},
     "output_type": "execute_result"
    },
    {
     "data": {
      "image/png": "[encoded data removed]",
      "text/plain": [
       "<matplotlib.figure.Figure at 0x199012abf28>"
      ]
     },
     "metadata": {},
     "output_type": "display_data"
    }
   ],
   "source": [
    "#We are going to extract the hours from the datetime\n",
    "total_data['hour']=total_data.datetime.dt.hour\n",
    "# chose a sample aproximatly 15 days\n",
    "sample=total_data[:360]\n",
    "sample['hour'].plot()"
   ]
  },
  {
   "cell_type": "code",
   "execution_count": 19,
   "metadata": {},
   "outputs": [
    {
     "data": {
      "text/plain": [
       "<matplotlib.axes._subplots.AxesSubplot at 0x1990177ca20>"
      ]
     },
     "execution_count": 19,
     "metadata": {},
     "output_type": "execute_result"
    },
    {
     "data": {
      "image/png": "[encoded data removed]",
      "text/plain": [
       "<matplotlib.figure.Figure at 0x199017ed0f0>"
      ]
     },
     "metadata": {},
     "output_type": "display_data"
    }
   ],
   "source": [
    "total_data['day']=total_data.datetime.dt.day\n",
    "sample=total_data[650:750]\n",
    "sample['day'].plot()"
   ]
  },
  {
   "cell_type": "code",
   "execution_count": 21,
   "metadata": {},
   "outputs": [
    {
     "data": {
      "text/plain": [
       "<matplotlib.axes._subplots.AxesSubplot at 0x199016a05f8>"
      ]
     },
     "execution_count": 21,
     "metadata": {},
     "output_type": "execute_result"
    },
    {
     "data": {
      "image/png": "[encoded data removed]",
      "text/plain": [
       "<matplotlib.figure.Figure at 0x199016b46d8>"
      ]
     },
     "metadata": {},
     "output_type": "display_data"
    }
   ],
   "source": [
    "total_data['month']=total_data.datetime.dt.month\n",
    "sample=total_data[650:750]\n",
    "sample['month'].plot()"
   ]
  },
  {
   "cell_type": "markdown",
   "metadata": {},
   "source": [
    "we need to see a cycle betwwn 0 and 23 that repeat 15 times. when the time goes from 23 to 0 we have a jump, so there is a problem about presenting syclical data to machine learning algorithem. we chose one day to have a look at the time arounf midnight"
   ]
  },
  {
   "cell_type": "code",
   "execution_count": 22,
   "metadata": {},
   "outputs": [
    {
     "data": {
      "text/html": [
       "<div>\n",
       "<style scoped>\n",
       "    .dataframe tbody tr th:only-of-type {\n",
       "        vertical-align: middle;\n",
       "    }\n",
       "\n",
       "    .dataframe tbody tr th {\n",
       "        vertical-align: top;\n",
       "    }\n",
       "\n",
       "    .dataframe thead th {\n",
       "        text-align: right;\n",
       "    }\n",
       "</style>\n",
       "<table border=\"1\" class=\"dataframe\">\n",
       "  <thead>\n",
       "    <tr style=\"text-align: right;\">\n",
       "      <th></th>\n",
       "      <th>datetime</th>\n",
       "      <th>temperature</th>\n",
       "      <th>hour</th>\n",
       "      <th>humidity</th>\n",
       "      <th>pressure</th>\n",
       "      <th>wind_speed</th>\n",
       "      <th>wind_direction</th>\n",
       "      <th>day</th>\n",
       "      <th>month</th>\n",
       "    </tr>\n",
       "  </thead>\n",
       "  <tbody>\n",
       "    <tr>\n",
       "      <th>683</th>\n",
       "      <td>2012-10-29 23:00:00</td>\n",
       "      <td>14.09</td>\n",
       "      <td>23</td>\n",
       "      <td>72.0</td>\n",
       "      <td>1006.0</td>\n",
       "      <td>10.0</td>\n",
       "      <td>40.0</td>\n",
       "      <td>29</td>\n",
       "      <td>10</td>\n",
       "    </tr>\n",
       "    <tr>\n",
       "      <th>684</th>\n",
       "      <td>2012-10-30 00:00:00</td>\n",
       "      <td>14.09</td>\n",
       "      <td>0</td>\n",
       "      <td>72.0</td>\n",
       "      <td>1006.0</td>\n",
       "      <td>11.0</td>\n",
       "      <td>50.0</td>\n",
       "      <td>30</td>\n",
       "      <td>10</td>\n",
       "    </tr>\n",
       "    <tr>\n",
       "      <th>685</th>\n",
       "      <td>2012-10-30 01:00:00</td>\n",
       "      <td>13.95</td>\n",
       "      <td>1</td>\n",
       "      <td>76.0</td>\n",
       "      <td>1006.0</td>\n",
       "      <td>13.0</td>\n",
       "      <td>50.0</td>\n",
       "      <td>30</td>\n",
       "      <td>10</td>\n",
       "    </tr>\n",
       "    <tr>\n",
       "      <th>686</th>\n",
       "      <td>2012-10-30 02:00:00</td>\n",
       "      <td>13.82</td>\n",
       "      <td>2</td>\n",
       "      <td>71.0</td>\n",
       "      <td>1005.0</td>\n",
       "      <td>10.0</td>\n",
       "      <td>40.0</td>\n",
       "      <td>30</td>\n",
       "      <td>10</td>\n",
       "    </tr>\n",
       "    <tr>\n",
       "      <th>687</th>\n",
       "      <td>2012-10-30 03:00:00</td>\n",
       "      <td>13.44</td>\n",
       "      <td>3</td>\n",
       "      <td>71.0</td>\n",
       "      <td>1005.0</td>\n",
       "      <td>12.0</td>\n",
       "      <td>50.0</td>\n",
       "      <td>30</td>\n",
       "      <td>10</td>\n",
       "    </tr>\n",
       "  </tbody>\n",
       "</table>\n",
       "</div>"
      ],
      "text/plain": [
       "               datetime  temperature  hour  humidity  pressure  wind_speed  \\\n",
       "683 2012-10-29 23:00:00        14.09    23      72.0    1006.0        10.0   \n",
       "684 2012-10-30 00:00:00        14.09     0      72.0    1006.0        11.0   \n",
       "685 2012-10-30 01:00:00        13.95     1      76.0    1006.0        13.0   \n",
       "686 2012-10-30 02:00:00        13.82     2      71.0    1005.0        10.0   \n",
       "687 2012-10-30 03:00:00        13.44     3      71.0    1005.0        12.0   \n",
       "\n",
       "     wind_direction  day  month  \n",
       "683            40.0   29     10  \n",
       "684            50.0   30     10  \n",
       "685            50.0   30     10  \n",
       "686            40.0   30     10  \n",
       "687            50.0   30     10  "
      ]
     },
     "execution_count": 22,
     "metadata": {},
     "output_type": "execute_result"
    }
   ],
   "source": [
    "sample[33:38]"
   ]
  },
  {
   "cell_type": "markdown",
   "metadata": {},
   "source": [
    "between record 34 and 35 : 23-22=1\n",
    "between record 35 and 36 : 0-23=-23\n",
    "so we need to change the encoding of the feature. A common method for encoding cyclical data is to transform the data into two dimensions using a sine and consine transformation."
   ]
  },
  {
   "cell_type": "code",
   "execution_count": 23,
   "metadata": {},
   "outputs": [],
   "source": [
    "def cyclical(dataset,column,max_v):\n",
    "    dataset[column+'_sin']=np.sin(2*np.pi*dataset[column]/max_v)\n",
    "    dataset[column+'_cos']=np.cos(2*np.pi*dataset[column]/max_v)\n",
    "    return dataset\n"
   ]
  },
  {
   "cell_type": "code",
   "execution_count": 24,
   "metadata": {},
   "outputs": [
    {
     "data": {
      "text/html": [
       "<div>\n",
       "<style scoped>\n",
       "    .dataframe tbody tr th:only-of-type {\n",
       "        vertical-align: middle;\n",
       "    }\n",
       "\n",
       "    .dataframe tbody tr th {\n",
       "        vertical-align: top;\n",
       "    }\n",
       "\n",
       "    .dataframe thead th {\n",
       "        text-align: right;\n",
       "    }\n",
       "</style>\n",
       "<table border=\"1\" class=\"dataframe\">\n",
       "  <thead>\n",
       "    <tr style=\"text-align: right;\">\n",
       "      <th></th>\n",
       "      <th>datetime</th>\n",
       "      <th>temperature</th>\n",
       "      <th>hour</th>\n",
       "      <th>humidity</th>\n",
       "      <th>pressure</th>\n",
       "      <th>wind_speed</th>\n",
       "      <th>wind_direction</th>\n",
       "      <th>day</th>\n",
       "      <th>month</th>\n",
       "    </tr>\n",
       "  </thead>\n",
       "  <tbody>\n",
       "    <tr>\n",
       "      <th>0</th>\n",
       "      <td>2012-10-01 12:00:00</td>\n",
       "      <td>15.070000</td>\n",
       "      <td>12</td>\n",
       "      <td>58.0</td>\n",
       "      <td>1012.0</td>\n",
       "      <td>7.0</td>\n",
       "      <td>260.0</td>\n",
       "      <td>1</td>\n",
       "      <td>10</td>\n",
       "    </tr>\n",
       "    <tr>\n",
       "      <th>1</th>\n",
       "      <td>2012-10-01 13:00:00</td>\n",
       "      <td>15.070000</td>\n",
       "      <td>13</td>\n",
       "      <td>58.0</td>\n",
       "      <td>1012.0</td>\n",
       "      <td>7.0</td>\n",
       "      <td>260.0</td>\n",
       "      <td>1</td>\n",
       "      <td>10</td>\n",
       "    </tr>\n",
       "    <tr>\n",
       "      <th>2</th>\n",
       "      <td>2012-10-01 14:00:00</td>\n",
       "      <td>15.097676</td>\n",
       "      <td>14</td>\n",
       "      <td>57.0</td>\n",
       "      <td>1012.0</td>\n",
       "      <td>7.0</td>\n",
       "      <td>260.0</td>\n",
       "      <td>1</td>\n",
       "      <td>10</td>\n",
       "    </tr>\n",
       "    <tr>\n",
       "      <th>3</th>\n",
       "      <td>2012-10-01 15:00:00</td>\n",
       "      <td>15.176940</td>\n",
       "      <td>15</td>\n",
       "      <td>57.0</td>\n",
       "      <td>1012.0</td>\n",
       "      <td>7.0</td>\n",
       "      <td>260.0</td>\n",
       "      <td>1</td>\n",
       "      <td>10</td>\n",
       "    </tr>\n",
       "    <tr>\n",
       "      <th>4</th>\n",
       "      <td>2012-10-01 16:00:00</td>\n",
       "      <td>15.256203</td>\n",
       "      <td>16</td>\n",
       "      <td>57.0</td>\n",
       "      <td>1012.0</td>\n",
       "      <td>7.0</td>\n",
       "      <td>260.0</td>\n",
       "      <td>1</td>\n",
       "      <td>10</td>\n",
       "    </tr>\n",
       "  </tbody>\n",
       "</table>\n",
       "</div>"
      ],
      "text/plain": [
       "             datetime  temperature  hour  humidity  pressure  wind_speed  \\\n",
       "0 2012-10-01 12:00:00    15.070000    12      58.0    1012.0         7.0   \n",
       "1 2012-10-01 13:00:00    15.070000    13      58.0    1012.0         7.0   \n",
       "2 2012-10-01 14:00:00    15.097676    14      57.0    1012.0         7.0   \n",
       "3 2012-10-01 15:00:00    15.176940    15      57.0    1012.0         7.0   \n",
       "4 2012-10-01 16:00:00    15.256203    16      57.0    1012.0         7.0   \n",
       "\n",
       "   wind_direction  day  month  \n",
       "0           260.0    1     10  \n",
       "1           260.0    1     10  \n",
       "2           260.0    1     10  \n",
       "3           260.0    1     10  \n",
       "4           260.0    1     10  "
      ]
     },
     "execution_count": 24,
     "metadata": {},
     "output_type": "execute_result"
    }
   ],
   "source": [
    "total_data.head(5)"
   ]
  },
  {
   "cell_type": "code",
   "execution_count": 25,
   "metadata": {},
   "outputs": [],
   "source": [
    "total_data= cyclical(total_data,'hour',23.0)\n",
    "total_data= cyclical(total_data,'day',365.0)\n",
    "total_data= cyclical(total_data,'month',12.0)"
   ]
  },
  {
   "cell_type": "code",
   "execution_count": 28,
   "metadata": {},
   "outputs": [
    {
     "data": {
      "text/html": [
       "<div>\n",
       "<style scoped>\n",
       "    .dataframe tbody tr th:only-of-type {\n",
       "        vertical-align: middle;\n",
       "    }\n",
       "\n",
       "    .dataframe tbody tr th {\n",
       "        vertical-align: top;\n",
       "    }\n",
       "\n",
       "    .dataframe thead th {\n",
       "        text-align: right;\n",
       "    }\n",
       "</style>\n",
       "<table border=\"1\" class=\"dataframe\">\n",
       "  <thead>\n",
       "    <tr style=\"text-align: right;\">\n",
       "      <th></th>\n",
       "      <th>datetime</th>\n",
       "      <th>temperature</th>\n",
       "      <th>hour</th>\n",
       "      <th>humidity</th>\n",
       "      <th>pressure</th>\n",
       "      <th>wind_speed</th>\n",
       "      <th>wind_direction</th>\n",
       "      <th>day</th>\n",
       "      <th>month</th>\n",
       "      <th>hour_sin</th>\n",
       "      <th>hour_cos</th>\n",
       "      <th>day_sin</th>\n",
       "      <th>day_cos</th>\n",
       "      <th>month_sin</th>\n",
       "      <th>month_cos</th>\n",
       "    </tr>\n",
       "  </thead>\n",
       "  <tbody>\n",
       "    <tr>\n",
       "      <th>0</th>\n",
       "      <td>2012-10-01 12:00:00</td>\n",
       "      <td>15.070000</td>\n",
       "      <td>12</td>\n",
       "      <td>58.0</td>\n",
       "      <td>1012.0</td>\n",
       "      <td>7.0</td>\n",
       "      <td>260.0</td>\n",
       "      <td>1</td>\n",
       "      <td>10</td>\n",
       "      <td>-0.136167</td>\n",
       "      <td>-0.990686</td>\n",
       "      <td>0.017213</td>\n",
       "      <td>0.999852</td>\n",
       "      <td>-0.866025</td>\n",
       "      <td>0.5</td>\n",
       "    </tr>\n",
       "    <tr>\n",
       "      <th>1</th>\n",
       "      <td>2012-10-01 13:00:00</td>\n",
       "      <td>15.070000</td>\n",
       "      <td>13</td>\n",
       "      <td>58.0</td>\n",
       "      <td>1012.0</td>\n",
       "      <td>7.0</td>\n",
       "      <td>260.0</td>\n",
       "      <td>1</td>\n",
       "      <td>10</td>\n",
       "      <td>-0.398401</td>\n",
       "      <td>-0.917211</td>\n",
       "      <td>0.017213</td>\n",
       "      <td>0.999852</td>\n",
       "      <td>-0.866025</td>\n",
       "      <td>0.5</td>\n",
       "    </tr>\n",
       "    <tr>\n",
       "      <th>2</th>\n",
       "      <td>2012-10-01 14:00:00</td>\n",
       "      <td>15.097676</td>\n",
       "      <td>14</td>\n",
       "      <td>57.0</td>\n",
       "      <td>1012.0</td>\n",
       "      <td>7.0</td>\n",
       "      <td>260.0</td>\n",
       "      <td>1</td>\n",
       "      <td>10</td>\n",
       "      <td>-0.631088</td>\n",
       "      <td>-0.775711</td>\n",
       "      <td>0.017213</td>\n",
       "      <td>0.999852</td>\n",
       "      <td>-0.866025</td>\n",
       "      <td>0.5</td>\n",
       "    </tr>\n",
       "    <tr>\n",
       "      <th>3</th>\n",
       "      <td>2012-10-01 15:00:00</td>\n",
       "      <td>15.176940</td>\n",
       "      <td>15</td>\n",
       "      <td>57.0</td>\n",
       "      <td>1012.0</td>\n",
       "      <td>7.0</td>\n",
       "      <td>260.0</td>\n",
       "      <td>1</td>\n",
       "      <td>10</td>\n",
       "      <td>-0.816970</td>\n",
       "      <td>-0.576680</td>\n",
       "      <td>0.017213</td>\n",
       "      <td>0.999852</td>\n",
       "      <td>-0.866025</td>\n",
       "      <td>0.5</td>\n",
       "    </tr>\n",
       "    <tr>\n",
       "      <th>4</th>\n",
       "      <td>2012-10-01 16:00:00</td>\n",
       "      <td>15.256203</td>\n",
       "      <td>16</td>\n",
       "      <td>57.0</td>\n",
       "      <td>1012.0</td>\n",
       "      <td>7.0</td>\n",
       "      <td>260.0</td>\n",
       "      <td>1</td>\n",
       "      <td>10</td>\n",
       "      <td>-0.942261</td>\n",
       "      <td>-0.334880</td>\n",
       "      <td>0.017213</td>\n",
       "      <td>0.999852</td>\n",
       "      <td>-0.866025</td>\n",
       "      <td>0.5</td>\n",
       "    </tr>\n",
       "  </tbody>\n",
       "</table>\n",
       "</div>"
      ],
      "text/plain": [
       "             datetime  temperature  hour  humidity  pressure  wind_speed  \\\n",
       "0 2012-10-01 12:00:00    15.070000    12      58.0    1012.0         7.0   \n",
       "1 2012-10-01 13:00:00    15.070000    13      58.0    1012.0         7.0   \n",
       "2 2012-10-01 14:00:00    15.097676    14      57.0    1012.0         7.0   \n",
       "3 2012-10-01 15:00:00    15.176940    15      57.0    1012.0         7.0   \n",
       "4 2012-10-01 16:00:00    15.256203    16      57.0    1012.0         7.0   \n",
       "\n",
       "   wind_direction  day  month  hour_sin  hour_cos   day_sin   day_cos  \\\n",
       "0           260.0    1     10 -0.136167 -0.990686  0.017213  0.999852   \n",
       "1           260.0    1     10 -0.398401 -0.917211  0.017213  0.999852   \n",
       "2           260.0    1     10 -0.631088 -0.775711  0.017213  0.999852   \n",
       "3           260.0    1     10 -0.816970 -0.576680  0.017213  0.999852   \n",
       "4           260.0    1     10 -0.942261 -0.334880  0.017213  0.999852   \n",
       "\n",
       "   month_sin  month_cos  \n",
       "0  -0.866025        0.5  \n",
       "1  -0.866025        0.5  \n",
       "2  -0.866025        0.5  \n",
       "3  -0.866025        0.5  \n",
       "4  -0.866025        0.5  "
      ]
     },
     "execution_count": 28,
     "metadata": {},
     "output_type": "execute_result"
    }
   ],
   "source": [
    "total_data.head(5)"
   ]
  },
  {
   "cell_type": "code",
   "execution_count": 30,
   "metadata": {},
   "outputs": [
    {
     "data": {
      "image/png": "[encoded data removed]",
      "text/plain": [
       "<matplotlib.figure.Figure at 0x1990164e160>"
      ]
     },
     "metadata": {},
     "output_type": "display_data"
    }
   ],
   "source": [
    "total_data.plot.scatter('hour_sin','hour_cos').set_aspect('equal')"
   ]
  },
  {
   "cell_type": "markdown",
   "metadata": {},
   "source": [
    "now, it is prefect to present as a cyclical feature for machine learning algorithms."
   ]
  },
  {
   "cell_type": "code",
   "execution_count": 196,
   "metadata": {},
   "outputs": [],
   "source": [
    "#total_data.to_csv(\"New York_hourlyWeather_cyclical.csv.gz\",index=False,compression=\"gzip\")"
   ]
  },
  {
   "cell_type": "code",
   "execution_count": 51,
   "metadata": {},
   "outputs": [],
   "source": [
    "# feature engineering\n",
    "X_columns = ['hour_sin', 'hour_cos', 'day_sin', 'day_sin', 'month_sin', 'month_cos']\n",
    "y_column = ['temperature']"
   ]
  },
  {
   "cell_type": "markdown",
   "metadata": {},
   "source": [
    "# training and Test\n"
   ]
  },
  {
   "cell_type": "code",
   "execution_count": 52,
   "metadata": {},
   "outputs": [
    {
     "name": "stdout",
     "output_type": "stream",
     "text": [
      "X_train (35569, 6)\n",
      "y_train (35569, 1)\n",
      "X_test (8893, 6)\n",
      "y_test (8893, 1)\n"
     ]
    }
   ],
   "source": [
    "# split the data\n",
    "\n",
    "threshold = 0.8\n",
    "absolute_threshold = int(len(total_data)*threshold)\n",
    "\n",
    "X_train = total_data.ix[:absolute_threshold, X_columns]\n",
    "y_train = total_data.ix[:absolute_threshold, y_column]\n",
    "\n",
    "X_test = total_data.ix[absolute_threshold:, X_columns]\n",
    "y_test = total_data.ix[absolute_threshold:, y_column]\n",
    "\n",
    "print('X_train', X_train.shape)\n",
    "print('y_train', y_train.shape)\n",
    "print('X_test', X_test.shape)\n",
    "print('y_test', y_test.shape)"
   ]
  },
  {
   "cell_type": "code",
   "execution_count": 53,
   "metadata": {},
   "outputs": [
    {
     "name": "stderr",
     "output_type": "stream",
     "text": [
      "C:\\Users\\Negah\\Anaconda3\\lib\\site-packages\\ipykernel_launcher.py:5: DataConversionWarning: A column-vector y was passed when a 1d array was expected. Please change the shape of y to (n_samples,), for example using ravel().\n",
      "  \"\"\"\n"
     ]
    }
   ],
   "source": [
    "from sklearn.linear_model import LinearRegression\n",
    "from sklearn.ensemble import RandomForestRegressor\n",
    "#model = LinearRegression()\n",
    "model = RandomForestRegressor()\n",
    "model.fit(X_train, y_train)\n",
    "y_pred = model.predict(X_test)"
   ]
  },
  {
   "cell_type": "code",
   "execution_count": 54,
   "metadata": {},
   "outputs": [
    {
     "data": {
      "text/html": [
       "<div>\n",
       "<style scoped>\n",
       "    .dataframe tbody tr th:only-of-type {\n",
       "        vertical-align: middle;\n",
       "    }\n",
       "\n",
       "    .dataframe tbody tr th {\n",
       "        vertical-align: top;\n",
       "    }\n",
       "\n",
       "    .dataframe thead th {\n",
       "        text-align: right;\n",
       "    }\n",
       "</style>\n",
       "<table border=\"1\" class=\"dataframe\">\n",
       "  <thead>\n",
       "    <tr style=\"text-align: right;\">\n",
       "      <th></th>\n",
       "      <th>0</th>\n",
       "      <th>1</th>\n",
       "    </tr>\n",
       "  </thead>\n",
       "  <tbody>\n",
       "    <tr>\n",
       "      <th>5</th>\n",
       "      <td>month_cos</td>\n",
       "      <td>0.422794</td>\n",
       "    </tr>\n",
       "    <tr>\n",
       "      <th>4</th>\n",
       "      <td>month_sin</td>\n",
       "      <td>0.421478</td>\n",
       "    </tr>\n",
       "    <tr>\n",
       "      <th>0</th>\n",
       "      <td>hour_sin</td>\n",
       "      <td>0.050262</td>\n",
       "    </tr>\n",
       "    <tr>\n",
       "      <th>3</th>\n",
       "      <td>day_sin</td>\n",
       "      <td>0.039943</td>\n",
       "    </tr>\n",
       "    <tr>\n",
       "      <th>2</th>\n",
       "      <td>day_sin</td>\n",
       "      <td>0.033819</td>\n",
       "    </tr>\n",
       "    <tr>\n",
       "      <th>1</th>\n",
       "      <td>hour_cos</td>\n",
       "      <td>0.031704</td>\n",
       "    </tr>\n",
       "  </tbody>\n",
       "</table>\n",
       "</div>"
      ],
      "text/plain": [
       "           0         1\n",
       "5  month_cos  0.422794\n",
       "4  month_sin  0.421478\n",
       "0   hour_sin  0.050262\n",
       "3    day_sin  0.039943\n",
       "2    day_sin  0.033819\n",
       "1   hour_cos  0.031704"
      ]
     },
     "execution_count": 54,
     "metadata": {},
     "output_type": "execute_result"
    }
   ],
   "source": [
    "# feature importance\n",
    "importance = []\n",
    "for i in range(len(X_columns)):\n",
    "    importance.append([X_columns[i], model.feature_importances_[i]])\n",
    "pd.DataFrame(importance).sort_values(by=1, ascending=False)"
   ]
  },
  {
   "cell_type": "code",
   "execution_count": 55,
   "metadata": {},
   "outputs": [
    {
     "name": "stdout",
     "output_type": "stream",
     "text": [
      "MAE 4.210247733862566\n",
      "RMSE 5.366536223742923\n"
     ]
    }
   ],
   "source": [
    "from sklearn.metrics import mean_absolute_error\n",
    "from sklearn.metrics import mean_squared_error\n",
    "print('MAE', mean_absolute_error(y_test, y_pred))\n",
    "print('RMSE', np.sqrt(mean_squared_error(y_test, y_pred)))"
   ]
  },
  {
   "cell_type": "code",
   "execution_count": 50,
   "metadata": {},
   "outputs": [
    {
     "data": {
      "image/png": "[encoded data removed]",
      "text/plain": [
       "<matplotlib.figure.Figure at 0x1990c470ef0>"
      ]
     },
     "metadata": {},
     "output_type": "display_data"
    }
   ],
   "source": [
    "plt.scatter(y_test, y_pred, alpha=0.3)\n",
    "plt.show()"
   ]
  },
  {
   "cell_type": "code",
   "execution_count": null,
   "metadata": {},
   "outputs": [],
   "source": [
    "X_train = get_unencoded_features(data_train)\n",
    "X_test  = get_unencoded_features(data_test)\n",
    "y_train = data_train.temperature\n",
    "y_test  = data_test.temperature"
   ]
  },
  {
   "cell_type": "raw",
   "metadata": {},
   "source": [
    "# "
   ]
  }
 ],
 "metadata": {
  "kernelspec": {
   "display_name": "Python 3",
   "language": "python",
   "name": "python3"
  },
  "language_info": {
   "codemirror_mode": {
    "name": "ipython",
    "version": 3
   },
   "file_extension": ".py",
   "mimetype": "text/x-python",
   "name": "python",
   "nbconvert_exporter": "python",
   "pygments_lexer": "ipython3",
   "version": "3.6.4"
  }
 },
 "nbformat": 4,
 "nbformat_minor": 2
}
