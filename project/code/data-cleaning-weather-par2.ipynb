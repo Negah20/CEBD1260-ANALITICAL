{
 "cells": [
  {
   "cell_type": "markdown",
   "metadata": {},
   "source": [
    ".pandas is a software library written for the Python programming language for data manipulation and analysis.\n",
    ".NumPymis a library for the Python programming language, adding support for large, multi-dimensional arrays and matrices, along with a large collection of high-level mathematical functions to operate on these arrays.\n",
    ".Matplotlib is a plotting library for Python. It is used along with NumPy to provide an environment that is an effective open source alternative for MatLab.\n",
    ".matplotlib.pyplot is a collection of command style functions that make matplotlib work like MATLAB.\n",
    ".Seaborn is a Python visualization library based on matplotlib. It provides a high-level interface for drawing attractive statistical graphics."
   ]
  },
  {
   "cell_type": "code",
   "execution_count": 1,
   "metadata": {},
   "outputs": [],
   "source": [
    "import pandas as pd\n",
    "import numpy  as np\n",
    "import matplotlib as mpl\n",
    "import matplotlib.pyplot as plt\n",
    "import seaborn as sns\n",
    "mpl.style.use('seaborn')"
   ]
  },
  {
   "cell_type": "markdown",
   "metadata": {},
   "source": [
    " We will create a model that attempts to predict the temperature in New York for a given month, day and hour."
   ]
  },
  {
   "cell_type": "markdown",
   "metadata": {},
   "source": [
    "preparing data"
   ]
  },
  {
   "cell_type": "code",
   "execution_count": 2,
   "metadata": {},
   "outputs": [
    {
     "data": {
      "text/html": [
       "<div>\n",
       "<style scoped>\n",
       "    .dataframe tbody tr th:only-of-type {\n",
       "        vertical-align: middle;\n",
       "    }\n",
       "\n",
       "    .dataframe tbody tr th {\n",
       "        vertical-align: top;\n",
       "    }\n",
       "\n",
       "    .dataframe thead th {\n",
       "        text-align: right;\n",
       "    }\n",
       "</style>\n",
       "<table border=\"1\" class=\"dataframe\">\n",
       "  <thead>\n",
       "    <tr style=\"text-align: right;\">\n",
       "      <th></th>\n",
       "      <th>datetime</th>\n",
       "      <th>Vancouver</th>\n",
       "      <th>Portland</th>\n",
       "      <th>San Francisco</th>\n",
       "      <th>Seattle</th>\n",
       "      <th>Los Angeles</th>\n",
       "      <th>San Diego</th>\n",
       "      <th>Las Vegas</th>\n",
       "      <th>Phoenix</th>\n",
       "      <th>Albuquerque</th>\n",
       "      <th>...</th>\n",
       "      <th>Philadelphia</th>\n",
       "      <th>New York</th>\n",
       "      <th>Montreal</th>\n",
       "      <th>Boston</th>\n",
       "      <th>Beersheba</th>\n",
       "      <th>Tel Aviv District</th>\n",
       "      <th>Eilat</th>\n",
       "      <th>Haifa</th>\n",
       "      <th>Nahariyya</th>\n",
       "      <th>Jerusalem</th>\n",
       "    </tr>\n",
       "  </thead>\n",
       "  <tbody>\n",
       "    <tr>\n",
       "      <th>15509</th>\n",
       "      <td>2014-07-09 17:00:00</td>\n",
       "      <td>291.45</td>\n",
       "      <td>292.740000</td>\n",
       "      <td>292.510000</td>\n",
       "      <td>291.650000</td>\n",
       "      <td>297.660000</td>\n",
       "      <td>296.560000</td>\n",
       "      <td>301.400000</td>\n",
       "      <td>304.320000</td>\n",
       "      <td>298.120000</td>\n",
       "      <td>...</td>\n",
       "      <td>303.90</td>\n",
       "      <td>302.73</td>\n",
       "      <td>294.29</td>\n",
       "      <td>302.82</td>\n",
       "      <td>297.700</td>\n",
       "      <td>300.70</td>\n",
       "      <td>311.660</td>\n",
       "      <td>298.700</td>\n",
       "      <td>298.700</td>\n",
       "      <td>297.300</td>\n",
       "    </tr>\n",
       "    <tr>\n",
       "      <th>7992</th>\n",
       "      <td>2013-08-30 12:00:00</td>\n",
       "      <td>290.49</td>\n",
       "      <td>291.040000</td>\n",
       "      <td>289.280000</td>\n",
       "      <td>290.530000</td>\n",
       "      <td>293.830000</td>\n",
       "      <td>293.180000</td>\n",
       "      <td>300.500000</td>\n",
       "      <td>298.200000</td>\n",
       "      <td>290.590000</td>\n",
       "      <td>...</td>\n",
       "      <td>294.48</td>\n",
       "      <td>294.63</td>\n",
       "      <td>289.71</td>\n",
       "      <td>291.62</td>\n",
       "      <td>307.689</td>\n",
       "      <td>304.15</td>\n",
       "      <td>314.150</td>\n",
       "      <td>303.633</td>\n",
       "      <td>302.783</td>\n",
       "      <td>305.783</td>\n",
       "    </tr>\n",
       "    <tr>\n",
       "      <th>37380</th>\n",
       "      <td>2017-01-06 00:00:00</td>\n",
       "      <td>270.63</td>\n",
       "      <td>274.880000</td>\n",
       "      <td>282.870000</td>\n",
       "      <td>275.390000</td>\n",
       "      <td>289.070000</td>\n",
       "      <td>288.650000</td>\n",
       "      <td>290.900000</td>\n",
       "      <td>291.780000</td>\n",
       "      <td>284.550000</td>\n",
       "      <td>...</td>\n",
       "      <td>272.07</td>\n",
       "      <td>272.07</td>\n",
       "      <td>264.77</td>\n",
       "      <td>271.04</td>\n",
       "      <td>279.716</td>\n",
       "      <td>282.15</td>\n",
       "      <td>283.066</td>\n",
       "      <td>290.866</td>\n",
       "      <td>290.866</td>\n",
       "      <td>282.150</td>\n",
       "    </tr>\n",
       "    <tr>\n",
       "      <th>10023</th>\n",
       "      <td>2013-11-23 03:00:00</td>\n",
       "      <td>276.49</td>\n",
       "      <td>289.143000</td>\n",
       "      <td>285.480000</td>\n",
       "      <td>276.150000</td>\n",
       "      <td>285.150000</td>\n",
       "      <td>286.750000</td>\n",
       "      <td>282.150000</td>\n",
       "      <td>284.990000</td>\n",
       "      <td>289.563000</td>\n",
       "      <td>...</td>\n",
       "      <td>285.14</td>\n",
       "      <td>284.35</td>\n",
       "      <td>275.84</td>\n",
       "      <td>282.88</td>\n",
       "      <td>282.247</td>\n",
       "      <td>288.15</td>\n",
       "      <td>288.120</td>\n",
       "      <td>290.588</td>\n",
       "      <td>293.213</td>\n",
       "      <td>283.318</td>\n",
       "    </tr>\n",
       "    <tr>\n",
       "      <th>27017</th>\n",
       "      <td>2015-11-01 05:00:00</td>\n",
       "      <td>284.75</td>\n",
       "      <td>285.224667</td>\n",
       "      <td>289.130093</td>\n",
       "      <td>285.096452</td>\n",
       "      <td>290.095526</td>\n",
       "      <td>288.509892</td>\n",
       "      <td>286.673916</td>\n",
       "      <td>288.999619</td>\n",
       "      <td>278.927472</td>\n",
       "      <td>...</td>\n",
       "      <td>282.53</td>\n",
       "      <td>281.99</td>\n",
       "      <td>278.13</td>\n",
       "      <td>281.64</td>\n",
       "      <td>289.425</td>\n",
       "      <td>292.15</td>\n",
       "      <td>291.680</td>\n",
       "      <td>290.150</td>\n",
       "      <td>290.150</td>\n",
       "      <td>292.150</td>\n",
       "    </tr>\n",
       "  </tbody>\n",
       "</table>\n",
       "<p>5 rows × 37 columns</p>\n",
       "</div>"
      ],
      "text/plain": [
       "                 datetime  Vancouver    Portland  San Francisco     Seattle  \\\n",
       "15509 2014-07-09 17:00:00     291.45  292.740000     292.510000  291.650000   \n",
       "7992  2013-08-30 12:00:00     290.49  291.040000     289.280000  290.530000   \n",
       "37380 2017-01-06 00:00:00     270.63  274.880000     282.870000  275.390000   \n",
       "10023 2013-11-23 03:00:00     276.49  289.143000     285.480000  276.150000   \n",
       "27017 2015-11-01 05:00:00     284.75  285.224667     289.130093  285.096452   \n",
       "\n",
       "       Los Angeles   San Diego   Las Vegas     Phoenix  Albuquerque  \\\n",
       "15509   297.660000  296.560000  301.400000  304.320000   298.120000   \n",
       "7992    293.830000  293.180000  300.500000  298.200000   290.590000   \n",
       "37380   289.070000  288.650000  290.900000  291.780000   284.550000   \n",
       "10023   285.150000  286.750000  282.150000  284.990000   289.563000   \n",
       "27017   290.095526  288.509892  286.673916  288.999619   278.927472   \n",
       "\n",
       "         ...      Philadelphia  New York  Montreal  Boston  Beersheba  \\\n",
       "15509    ...            303.90    302.73    294.29  302.82    297.700   \n",
       "7992     ...            294.48    294.63    289.71  291.62    307.689   \n",
       "37380    ...            272.07    272.07    264.77  271.04    279.716   \n",
       "10023    ...            285.14    284.35    275.84  282.88    282.247   \n",
       "27017    ...            282.53    281.99    278.13  281.64    289.425   \n",
       "\n",
       "       Tel Aviv District    Eilat    Haifa  Nahariyya  Jerusalem  \n",
       "15509             300.70  311.660  298.700    298.700    297.300  \n",
       "7992              304.15  314.150  303.633    302.783    305.783  \n",
       "37380             282.15  283.066  290.866    290.866    282.150  \n",
       "10023             288.15  288.120  290.588    293.213    283.318  \n",
       "27017             292.15  291.680  290.150    290.150    292.150  \n",
       "\n",
       "[5 rows x 37 columns]"
      ]
     },
     "execution_count": 2,
     "metadata": {},
     "output_type": "execute_result"
    }
   ],
   "source": [
    "city_temp=pd.read_csv(\"../data/raw/temperature.csv\", parse_dates=['datetime'])\n",
    "city_humid=pd.read_csv(\"../data/raw/humidity.csv\",parse_dates=['datetime'])\n",
    "city_press=pd.read_csv(\"../data/raw/pressure.csv\",parse_dates=['datetime'])\n",
    "city_speed=pd.read_csv(\"../data/raw/wind_speed.csv\",parse_dates=['datetime'])\n",
    "city_dir=pd.read_csv(\"../data/raw/wind_direction.csv\",parse_dates=['datetime'])\n",
    "city_taxi=pd.read_csv(\"../data/raw/Taxi-NYC.csv\",parse_dates=['datetime'])\n",
    "city_temp.sample(5)"
   ]
  },
  {
   "cell_type": "markdown",
   "metadata": {},
   "source": [
    "For each city we have timeseries in a column. We are going to chose New York as our chosen city and temperature as our chosen feature. It is better to convert the temperature to Celsius."
   ]
  },
  {
   "cell_type": "code",
   "execution_count": 3,
   "metadata": {},
   "outputs": [],
   "source": [
    "data=city_temp[['datetime','New York']]\n",
    "data=data.rename(columns={'New York':'temperature'})\n",
    "data.head(5)\n",
    "data['hour'] = data.datetime.dt.hour\n",
    "sample = data[:168]"
   ]
  },
  {
   "cell_type": "code",
   "execution_count": 4,
   "metadata": {},
   "outputs": [],
   "source": [
    "data_humid=city_humid[['datetime','New York']]\n",
    "data_humid=data_humid.rename(columns={'New York':'humidity'})\n"
   ]
  },
  {
   "cell_type": "code",
   "execution_count": 5,
   "metadata": {},
   "outputs": [
    {
     "data": {
      "text/html": [
       "<div>\n",
       "<style scoped>\n",
       "    .dataframe tbody tr th:only-of-type {\n",
       "        vertical-align: middle;\n",
       "    }\n",
       "\n",
       "    .dataframe tbody tr th {\n",
       "        vertical-align: top;\n",
       "    }\n",
       "\n",
       "    .dataframe thead th {\n",
       "        text-align: right;\n",
       "    }\n",
       "</style>\n",
       "<table border=\"1\" class=\"dataframe\">\n",
       "  <thead>\n",
       "    <tr style=\"text-align: right;\">\n",
       "      <th></th>\n",
       "      <th>datetime</th>\n",
       "      <th>Vancouver</th>\n",
       "      <th>Portland</th>\n",
       "      <th>San Francisco</th>\n",
       "      <th>Seattle</th>\n",
       "      <th>Los Angeles</th>\n",
       "      <th>San Diego</th>\n",
       "      <th>Las Vegas</th>\n",
       "      <th>Phoenix</th>\n",
       "      <th>Albuquerque</th>\n",
       "      <th>...</th>\n",
       "      <th>Philadelphia</th>\n",
       "      <th>New York</th>\n",
       "      <th>Montreal</th>\n",
       "      <th>Boston</th>\n",
       "      <th>Beersheba</th>\n",
       "      <th>Tel Aviv District</th>\n",
       "      <th>Eilat</th>\n",
       "      <th>Haifa</th>\n",
       "      <th>Nahariyya</th>\n",
       "      <th>Jerusalem</th>\n",
       "    </tr>\n",
       "  </thead>\n",
       "  <tbody>\n",
       "    <tr>\n",
       "      <th>2831</th>\n",
       "      <td>2013-01-27 11:00:00</td>\n",
       "      <td>NaN</td>\n",
       "      <td>1015.0</td>\n",
       "      <td>1017.0</td>\n",
       "      <td>1013.0</td>\n",
       "      <td>1013.0</td>\n",
       "      <td>1014.0</td>\n",
       "      <td>1015.0</td>\n",
       "      <td>1013.0</td>\n",
       "      <td>1020.0</td>\n",
       "      <td>...</td>\n",
       "      <td>1021.0</td>\n",
       "      <td>1019.0</td>\n",
       "      <td>1022.0</td>\n",
       "      <td>1017.0</td>\n",
       "      <td>964.0</td>\n",
       "      <td>1011.0</td>\n",
       "      <td>1011.0</td>\n",
       "      <td>1013.0</td>\n",
       "      <td>1014.0</td>\n",
       "      <td>1011.0</td>\n",
       "    </tr>\n",
       "    <tr>\n",
       "      <th>44401</th>\n",
       "      <td>2017-10-25 13:00:00</td>\n",
       "      <td>1019.0</td>\n",
       "      <td>1023.0</td>\n",
       "      <td>1014.0</td>\n",
       "      <td>1022.0</td>\n",
       "      <td>1013.0</td>\n",
       "      <td>1013.0</td>\n",
       "      <td>1021.0</td>\n",
       "      <td>1016.0</td>\n",
       "      <td>1030.0</td>\n",
       "      <td>...</td>\n",
       "      <td>1009.0</td>\n",
       "      <td>1008.0</td>\n",
       "      <td>1005.0</td>\n",
       "      <td>1007.0</td>\n",
       "      <td>988.0</td>\n",
       "      <td>1015.0</td>\n",
       "      <td>1013.0</td>\n",
       "      <td>1016.0</td>\n",
       "      <td>1016.0</td>\n",
       "      <td>1015.0</td>\n",
       "    </tr>\n",
       "    <tr>\n",
       "      <th>38368</th>\n",
       "      <td>2017-02-16 04:00:00</td>\n",
       "      <td>993.0</td>\n",
       "      <td>980.0</td>\n",
       "      <td>1021.0</td>\n",
       "      <td>1002.0</td>\n",
       "      <td>965.0</td>\n",
       "      <td>985.0</td>\n",
       "      <td>921.0</td>\n",
       "      <td>978.0</td>\n",
       "      <td>847.0</td>\n",
       "      <td>...</td>\n",
       "      <td>1004.0</td>\n",
       "      <td>1006.0</td>\n",
       "      <td>1000.0</td>\n",
       "      <td>999.0</td>\n",
       "      <td>987.0</td>\n",
       "      <td>1007.0</td>\n",
       "      <td>972.0</td>\n",
       "      <td>1025.0</td>\n",
       "      <td>1025.0</td>\n",
       "      <td>1000.0</td>\n",
       "    </tr>\n",
       "    <tr>\n",
       "      <th>27754</th>\n",
       "      <td>2015-12-01 22:00:00</td>\n",
       "      <td>1016.0</td>\n",
       "      <td>1021.0</td>\n",
       "      <td>1014.0</td>\n",
       "      <td>1018.0</td>\n",
       "      <td>1019.0</td>\n",
       "      <td>1019.0</td>\n",
       "      <td>1022.0</td>\n",
       "      <td>1019.0</td>\n",
       "      <td>1019.0</td>\n",
       "      <td>...</td>\n",
       "      <td>1017.0</td>\n",
       "      <td>1018.0</td>\n",
       "      <td>1018.0</td>\n",
       "      <td>1023.0</td>\n",
       "      <td>998.0</td>\n",
       "      <td>1020.0</td>\n",
       "      <td>1015.0</td>\n",
       "      <td>1029.0</td>\n",
       "      <td>1029.0</td>\n",
       "      <td>1020.0</td>\n",
       "    </tr>\n",
       "    <tr>\n",
       "      <th>43680</th>\n",
       "      <td>2017-09-25 12:00:00</td>\n",
       "      <td>1018.0</td>\n",
       "      <td>1020.0</td>\n",
       "      <td>1013.0</td>\n",
       "      <td>1019.0</td>\n",
       "      <td>1010.0</td>\n",
       "      <td>1011.0</td>\n",
       "      <td>1015.0</td>\n",
       "      <td>1009.0</td>\n",
       "      <td>1016.0</td>\n",
       "      <td>...</td>\n",
       "      <td>1018.0</td>\n",
       "      <td>1018.0</td>\n",
       "      <td>1018.0</td>\n",
       "      <td>1019.0</td>\n",
       "      <td>985.0</td>\n",
       "      <td>1013.0</td>\n",
       "      <td>1009.0</td>\n",
       "      <td>1013.0</td>\n",
       "      <td>1013.0</td>\n",
       "      <td>1013.0</td>\n",
       "    </tr>\n",
       "  </tbody>\n",
       "</table>\n",
       "<p>5 rows × 37 columns</p>\n",
       "</div>"
      ],
      "text/plain": [
       "                 datetime  Vancouver  Portland  San Francisco  Seattle  \\\n",
       "2831  2013-01-27 11:00:00        NaN    1015.0         1017.0   1013.0   \n",
       "44401 2017-10-25 13:00:00     1019.0    1023.0         1014.0   1022.0   \n",
       "38368 2017-02-16 04:00:00      993.0     980.0         1021.0   1002.0   \n",
       "27754 2015-12-01 22:00:00     1016.0    1021.0         1014.0   1018.0   \n",
       "43680 2017-09-25 12:00:00     1018.0    1020.0         1013.0   1019.0   \n",
       "\n",
       "       Los Angeles  San Diego  Las Vegas  Phoenix  Albuquerque    ...      \\\n",
       "2831        1013.0     1014.0     1015.0   1013.0       1020.0    ...       \n",
       "44401       1013.0     1013.0     1021.0   1016.0       1030.0    ...       \n",
       "38368        965.0      985.0      921.0    978.0        847.0    ...       \n",
       "27754       1019.0     1019.0     1022.0   1019.0       1019.0    ...       \n",
       "43680       1010.0     1011.0     1015.0   1009.0       1016.0    ...       \n",
       "\n",
       "       Philadelphia  New York  Montreal  Boston  Beersheba  Tel Aviv District  \\\n",
       "2831         1021.0    1019.0    1022.0  1017.0      964.0             1011.0   \n",
       "44401        1009.0    1008.0    1005.0  1007.0      988.0             1015.0   \n",
       "38368        1004.0    1006.0    1000.0   999.0      987.0             1007.0   \n",
       "27754        1017.0    1018.0    1018.0  1023.0      998.0             1020.0   \n",
       "43680        1018.0    1018.0    1018.0  1019.0      985.0             1013.0   \n",
       "\n",
       "        Eilat   Haifa  Nahariyya  Jerusalem  \n",
       "2831   1011.0  1013.0     1014.0     1011.0  \n",
       "44401  1013.0  1016.0     1016.0     1015.0  \n",
       "38368   972.0  1025.0     1025.0     1000.0  \n",
       "27754  1015.0  1029.0     1029.0     1020.0  \n",
       "43680  1009.0  1013.0     1013.0     1013.0  \n",
       "\n",
       "[5 rows x 37 columns]"
      ]
     },
     "execution_count": 5,
     "metadata": {},
     "output_type": "execute_result"
    }
   ],
   "source": [
    "city_press.sample(5)"
   ]
  },
  {
   "cell_type": "code",
   "execution_count": 6,
   "metadata": {},
   "outputs": [
    {
     "data": {
      "text/html": [
       "<div>\n",
       "<style scoped>\n",
       "    .dataframe tbody tr th:only-of-type {\n",
       "        vertical-align: middle;\n",
       "    }\n",
       "\n",
       "    .dataframe tbody tr th {\n",
       "        vertical-align: top;\n",
       "    }\n",
       "\n",
       "    .dataframe thead th {\n",
       "        text-align: right;\n",
       "    }\n",
       "</style>\n",
       "<table border=\"1\" class=\"dataframe\">\n",
       "  <thead>\n",
       "    <tr style=\"text-align: right;\">\n",
       "      <th></th>\n",
       "      <th>datetime</th>\n",
       "      <th>pressure</th>\n",
       "    </tr>\n",
       "  </thead>\n",
       "  <tbody>\n",
       "    <tr>\n",
       "      <th>0</th>\n",
       "      <td>2012-10-01 12:00:00</td>\n",
       "      <td>NaN</td>\n",
       "    </tr>\n",
       "    <tr>\n",
       "      <th>1</th>\n",
       "      <td>2012-10-01 13:00:00</td>\n",
       "      <td>1012.0</td>\n",
       "    </tr>\n",
       "    <tr>\n",
       "      <th>2</th>\n",
       "      <td>2012-10-01 14:00:00</td>\n",
       "      <td>1012.0</td>\n",
       "    </tr>\n",
       "    <tr>\n",
       "      <th>3</th>\n",
       "      <td>2012-10-01 15:00:00</td>\n",
       "      <td>1012.0</td>\n",
       "    </tr>\n",
       "    <tr>\n",
       "      <th>4</th>\n",
       "      <td>2012-10-01 16:00:00</td>\n",
       "      <td>1012.0</td>\n",
       "    </tr>\n",
       "  </tbody>\n",
       "</table>\n",
       "</div>"
      ],
      "text/plain": [
       "             datetime  pressure\n",
       "0 2012-10-01 12:00:00       NaN\n",
       "1 2012-10-01 13:00:00    1012.0\n",
       "2 2012-10-01 14:00:00    1012.0\n",
       "3 2012-10-01 15:00:00    1012.0\n",
       "4 2012-10-01 16:00:00    1012.0"
      ]
     },
     "execution_count": 6,
     "metadata": {},
     "output_type": "execute_result"
    }
   ],
   "source": [
    "data_press=city_press[['datetime','New York']]\n",
    "data_press=data_press.rename(columns={'New York':'pressure'})\n",
    "data_press.head(5)"
   ]
  },
  {
   "cell_type": "code",
   "execution_count": 7,
   "metadata": {},
   "outputs": [
    {
     "data": {
      "text/html": [
       "<div>\n",
       "<style scoped>\n",
       "    .dataframe tbody tr th:only-of-type {\n",
       "        vertical-align: middle;\n",
       "    }\n",
       "\n",
       "    .dataframe tbody tr th {\n",
       "        vertical-align: top;\n",
       "    }\n",
       "\n",
       "    .dataframe thead th {\n",
       "        text-align: right;\n",
       "    }\n",
       "</style>\n",
       "<table border=\"1\" class=\"dataframe\">\n",
       "  <thead>\n",
       "    <tr style=\"text-align: right;\">\n",
       "      <th></th>\n",
       "      <th>datetime</th>\n",
       "      <th>wind_speed</th>\n",
       "    </tr>\n",
       "  </thead>\n",
       "  <tbody>\n",
       "    <tr>\n",
       "      <th>0</th>\n",
       "      <td>2012-10-01 12:00:00</td>\n",
       "      <td>NaN</td>\n",
       "    </tr>\n",
       "    <tr>\n",
       "      <th>1</th>\n",
       "      <td>2012-10-01 13:00:00</td>\n",
       "      <td>7.0</td>\n",
       "    </tr>\n",
       "    <tr>\n",
       "      <th>2</th>\n",
       "      <td>2012-10-01 14:00:00</td>\n",
       "      <td>7.0</td>\n",
       "    </tr>\n",
       "    <tr>\n",
       "      <th>3</th>\n",
       "      <td>2012-10-01 15:00:00</td>\n",
       "      <td>7.0</td>\n",
       "    </tr>\n",
       "    <tr>\n",
       "      <th>4</th>\n",
       "      <td>2012-10-01 16:00:00</td>\n",
       "      <td>7.0</td>\n",
       "    </tr>\n",
       "  </tbody>\n",
       "</table>\n",
       "</div>"
      ],
      "text/plain": [
       "             datetime  wind_speed\n",
       "0 2012-10-01 12:00:00         NaN\n",
       "1 2012-10-01 13:00:00         7.0\n",
       "2 2012-10-01 14:00:00         7.0\n",
       "3 2012-10-01 15:00:00         7.0\n",
       "4 2012-10-01 16:00:00         7.0"
      ]
     },
     "execution_count": 7,
     "metadata": {},
     "output_type": "execute_result"
    }
   ],
   "source": [
    "data_speed=city_speed[['datetime','New York']]\n",
    "data_speed=data_speed.rename(columns={'New York':'wind_speed'})\n",
    "data_speed.head(5)"
   ]
  },
  {
   "cell_type": "code",
   "execution_count": 8,
   "metadata": {},
   "outputs": [
    {
     "data": {
      "text/html": [
       "<div>\n",
       "<style scoped>\n",
       "    .dataframe tbody tr th:only-of-type {\n",
       "        vertical-align: middle;\n",
       "    }\n",
       "\n",
       "    .dataframe tbody tr th {\n",
       "        vertical-align: top;\n",
       "    }\n",
       "\n",
       "    .dataframe thead th {\n",
       "        text-align: right;\n",
       "    }\n",
       "</style>\n",
       "<table border=\"1\" class=\"dataframe\">\n",
       "  <thead>\n",
       "    <tr style=\"text-align: right;\">\n",
       "      <th></th>\n",
       "      <th>datetime</th>\n",
       "      <th>wind_direction</th>\n",
       "    </tr>\n",
       "  </thead>\n",
       "  <tbody>\n",
       "    <tr>\n",
       "      <th>0</th>\n",
       "      <td>2012-10-01 12:00:00</td>\n",
       "      <td>NaN</td>\n",
       "    </tr>\n",
       "    <tr>\n",
       "      <th>1</th>\n",
       "      <td>2012-10-01 13:00:00</td>\n",
       "      <td>260.0</td>\n",
       "    </tr>\n",
       "    <tr>\n",
       "      <th>2</th>\n",
       "      <td>2012-10-01 14:00:00</td>\n",
       "      <td>260.0</td>\n",
       "    </tr>\n",
       "    <tr>\n",
       "      <th>3</th>\n",
       "      <td>2012-10-01 15:00:00</td>\n",
       "      <td>260.0</td>\n",
       "    </tr>\n",
       "    <tr>\n",
       "      <th>4</th>\n",
       "      <td>2012-10-01 16:00:00</td>\n",
       "      <td>260.0</td>\n",
       "    </tr>\n",
       "  </tbody>\n",
       "</table>\n",
       "</div>"
      ],
      "text/plain": [
       "             datetime  wind_direction\n",
       "0 2012-10-01 12:00:00             NaN\n",
       "1 2012-10-01 13:00:00           260.0\n",
       "2 2012-10-01 14:00:00           260.0\n",
       "3 2012-10-01 15:00:00           260.0\n",
       "4 2012-10-01 16:00:00           260.0"
      ]
     },
     "execution_count": 8,
     "metadata": {},
     "output_type": "execute_result"
    }
   ],
   "source": [
    "data_dir=city_dir[['datetime','New York']]\n",
    "data_dir=data_dir.rename(columns={'New York':'wind_direction'})\n",
    "data_dir.head(5)"
   ]
  },
  {
   "cell_type": "code",
   "execution_count": 9,
   "metadata": {},
   "outputs": [],
   "source": [
    "data = data.fillna(method = 'bfill', axis=0).dropna()\n",
    "data_press = data_press.fillna(method = 'bfill', axis=0).dropna()\n",
    "data_humid = data_humid.fillna(method = 'bfill', axis=0).dropna()\n",
    "data_dir = data_dir.fillna(method = 'bfill', axis=0).dropna()\n",
    "data_speed = data_speed.fillna(method = 'bfill', axis=0).dropna()"
   ]
  },
  {
   "cell_type": "code",
   "execution_count": 10,
   "metadata": {},
   "outputs": [],
   "source": [
    "total_data=pd.concat([data,data_humid['humidity'],data_press['pressure'],data_speed['wind_speed'],data_dir['wind_direction'],city_taxi['rides']], axis=1)\n"
   ]
  },
  {
   "cell_type": "code",
   "execution_count": 11,
   "metadata": {},
   "outputs": [],
   "source": [
    "total_data['temperature']=total_data['temperature']-273.15"
   ]
  },
  {
   "cell_type": "code",
   "execution_count": 12,
   "metadata": {},
   "outputs": [],
   "source": [
    "total_data['date']=total_data.datetime.dt.date"
   ]
  },
  {
   "cell_type": "code",
   "execution_count": 13,
   "metadata": {},
   "outputs": [
    {
     "data": {
      "text/html": [
       "<div>\n",
       "<style scoped>\n",
       "    .dataframe tbody tr th:only-of-type {\n",
       "        vertical-align: middle;\n",
       "    }\n",
       "\n",
       "    .dataframe tbody tr th {\n",
       "        vertical-align: top;\n",
       "    }\n",
       "\n",
       "    .dataframe thead th {\n",
       "        text-align: right;\n",
       "    }\n",
       "</style>\n",
       "<table border=\"1\" class=\"dataframe\">\n",
       "  <thead>\n",
       "    <tr style=\"text-align: right;\">\n",
       "      <th></th>\n",
       "      <th>datetime</th>\n",
       "      <th>temperature</th>\n",
       "      <th>hour</th>\n",
       "      <th>humidity</th>\n",
       "      <th>pressure</th>\n",
       "      <th>wind_speed</th>\n",
       "      <th>wind_direction</th>\n",
       "      <th>rides</th>\n",
       "      <th>date</th>\n",
       "    </tr>\n",
       "  </thead>\n",
       "  <tbody>\n",
       "    <tr>\n",
       "      <th>0</th>\n",
       "      <td>2012-10-01 12:00:00</td>\n",
       "      <td>15.070000</td>\n",
       "      <td>12</td>\n",
       "      <td>58.0</td>\n",
       "      <td>1012.0</td>\n",
       "      <td>7.0</td>\n",
       "      <td>260.0</td>\n",
       "      <td>23</td>\n",
       "      <td>2012-10-01</td>\n",
       "    </tr>\n",
       "    <tr>\n",
       "      <th>1</th>\n",
       "      <td>2012-10-01 13:00:00</td>\n",
       "      <td>15.070000</td>\n",
       "      <td>13</td>\n",
       "      <td>58.0</td>\n",
       "      <td>1012.0</td>\n",
       "      <td>7.0</td>\n",
       "      <td>260.0</td>\n",
       "      <td>22</td>\n",
       "      <td>2012-10-01</td>\n",
       "    </tr>\n",
       "    <tr>\n",
       "      <th>2</th>\n",
       "      <td>2012-10-01 14:00:00</td>\n",
       "      <td>15.097676</td>\n",
       "      <td>14</td>\n",
       "      <td>57.0</td>\n",
       "      <td>1012.0</td>\n",
       "      <td>7.0</td>\n",
       "      <td>260.0</td>\n",
       "      <td>21</td>\n",
       "      <td>2012-10-01</td>\n",
       "    </tr>\n",
       "    <tr>\n",
       "      <th>3</th>\n",
       "      <td>2012-10-01 15:00:00</td>\n",
       "      <td>15.176940</td>\n",
       "      <td>15</td>\n",
       "      <td>57.0</td>\n",
       "      <td>1012.0</td>\n",
       "      <td>7.0</td>\n",
       "      <td>260.0</td>\n",
       "      <td>20</td>\n",
       "      <td>2012-10-01</td>\n",
       "    </tr>\n",
       "    <tr>\n",
       "      <th>4</th>\n",
       "      <td>2012-10-01 16:00:00</td>\n",
       "      <td>15.256203</td>\n",
       "      <td>16</td>\n",
       "      <td>57.0</td>\n",
       "      <td>1012.0</td>\n",
       "      <td>7.0</td>\n",
       "      <td>260.0</td>\n",
       "      <td>19</td>\n",
       "      <td>2012-10-01</td>\n",
       "    </tr>\n",
       "  </tbody>\n",
       "</table>\n",
       "</div>"
      ],
      "text/plain": [
       "             datetime  temperature  hour  humidity  pressure  wind_speed  \\\n",
       "0 2012-10-01 12:00:00    15.070000    12      58.0    1012.0         7.0   \n",
       "1 2012-10-01 13:00:00    15.070000    13      58.0    1012.0         7.0   \n",
       "2 2012-10-01 14:00:00    15.097676    14      57.0    1012.0         7.0   \n",
       "3 2012-10-01 15:00:00    15.176940    15      57.0    1012.0         7.0   \n",
       "4 2012-10-01 16:00:00    15.256203    16      57.0    1012.0         7.0   \n",
       "\n",
       "   wind_direction  rides        date  \n",
       "0           260.0     23  2012-10-01  \n",
       "1           260.0     22  2012-10-01  \n",
       "2           260.0     21  2012-10-01  \n",
       "3           260.0     20  2012-10-01  \n",
       "4           260.0     19  2012-10-01  "
      ]
     },
     "execution_count": 13,
     "metadata": {},
     "output_type": "execute_result"
    }
   ],
   "source": [
    "total_data.head(5)"
   ]
  },
  {
   "cell_type": "code",
   "execution_count": 14,
   "metadata": {},
   "outputs": [],
   "source": [
    "sample=total_data[['date','humidity','wind_speed','wind_direction','temperature','rides']]\n",
    "\n"
   ]
  },
  {
   "cell_type": "markdown",
   "metadata": {},
   "source": [
    "we havesome missing value. All features's tend to be constant from one hour to the next, so we can use backfill to replace any missing values and drop the rest."
   ]
  },
  {
   "cell_type": "markdown",
   "metadata": {},
   "source": [
    "There is no missing value and there is no outlayer so our data looks good."
   ]
  },
  {
   "cell_type": "code",
   "execution_count": 15,
   "metadata": {},
   "outputs": [
    {
     "data": {
      "image/png": "[encoded data removed]",
      "text/plain": [
       "<matplotlib.figure.Figure at 0x21446e82588>"
      ]
     },
     "metadata": {},
     "output_type": "display_data"
    }
   ],
   "source": [
    "sample=total_data[['date','humidity','wind_speed','wind_direction','temperature','rides']]\n",
    "corrmat = sample.corr()\n",
    "sns.heatmap(corrmat, vmax=.8, square=True);\n",
    "plt.show()"
   ]
  },
  {
   "cell_type": "markdown",
   "metadata": {},
   "source": [
    "Obviously we see negative correlation between temperature and wind speed."
   ]
  },
  {
   "cell_type": "code",
   "execution_count": 16,
   "metadata": {},
   "outputs": [
    {
     "data": {
      "image/png": "[encoded data removed]",
      "text/plain": [
       "<matplotlib.figure.Figure at 0x21446ef2ba8>"
      ]
     },
     "metadata": {},
     "output_type": "display_data"
    }
   ],
   "source": [
    "# Visualization of the correlation between temperature x wind_speed\n",
    "\n",
    "plt.figure(figsize=(10,10))\n",
    "plt.ylabel('temperature')\n",
    "plt.xlabel('rides')\n",
    "\n",
    "plt.plot(sample['rides'], sample['temperature'], 'o', alpha=0.3)\n",
    "plt.show()"
   ]
  },
  {
   "cell_type": "code",
   "execution_count": 17,
   "metadata": {},
   "outputs": [
    {
     "data": {
      "image/png": "[encoded data removed]",
      "text/plain": [
       "<matplotlib.figure.Figure at 0x21446f1ee48>"
      ]
     },
     "metadata": {},
     "output_type": "display_data"
    }
   ],
   "source": [
    "\n",
    "plt.plot(sample.date, sample.temperature)\n",
    "plt.ylabel('Temperature');\n"
   ]
  },
  {
   "cell_type": "code",
   "execution_count": 18,
   "metadata": {},
   "outputs": [
    {
     "data": {
      "image/png": "[encoded data removed]",
      "text/plain": [
       "<matplotlib.figure.Figure at 0x21446e38c88>"
      ]
     },
     "metadata": {},
     "output_type": "display_data"
    }
   ],
   "source": [
    "plt.plot(sample.date, sample.wind_speed,'r')\n",
    "plt.ylabel('rides');\n",
    "plt.show()"
   ]
  },
  {
   "cell_type": "markdown",
   "metadata": {},
   "source": [
    "# feature engineering"
   ]
  },
  {
   "cell_type": "code",
   "execution_count": 19,
   "metadata": {},
   "outputs": [],
   "source": [
    "sample=total_data[['date','humidity','wind_speed','wind_direction','temperature','rides']]\n",
    "\n"
   ]
  },
  {
   "cell_type": "code",
   "execution_count": 20,
   "metadata": {},
   "outputs": [
    {
     "name": "stdout",
     "output_type": "stream",
     "text": [
      "count    44461.000000\n",
      "mean        12.250469\n",
      "std         10.220826\n",
      "min        -22.376000\n",
      "25%          4.220000\n",
      "50%         12.720000\n",
      "75%         20.610000\n",
      "max         37.090000\n",
      "Name: temperature, dtype: float64\n"
     ]
    },
    {
     "data": {
      "image/png": "[encoded data removed]",
      "text/plain": [
       "<matplotlib.figure.Figure at 0x21446fadeb8>"
      ]
     },
     "metadata": {},
     "output_type": "display_data"
    }
   ],
   "source": [
    "print(total_data.temperature.describe())\n",
    "plot = sns.distplot(total_data.temperature)"
   ]
  },
  {
   "cell_type": "code",
   "execution_count": 21,
   "metadata": {
    "scrolled": false
   },
   "outputs": [
    {
     "name": "stdout",
     "output_type": "stream",
     "text": [
      "count    44461.000000\n",
      "mean        66.516790\n",
      "std         19.884897\n",
      "min         10.000000\n",
      "25%         51.000000\n",
      "50%         68.000000\n",
      "75%         83.000000\n",
      "max        100.000000\n",
      "Name: humidity, dtype: float64\n"
     ]
    },
    {
     "data": {
      "image/png": "[encoded data removed]",
      "text/plain": [
       "<matplotlib.figure.Figure at 0x214474c3860>"
      ]
     },
     "metadata": {},
     "output_type": "display_data"
    }
   ],
   "source": [
    "print(total_data.humidity.describe())\n",
    "plot = sns.distplot(total_data.humidity)"
   ]
  },
  {
   "cell_type": "code",
   "execution_count": 22,
   "metadata": {},
   "outputs": [
    {
     "name": "stdout",
     "output_type": "stream",
     "text": [
      "count    44461.000000\n",
      "mean      1017.021142\n",
      "std         10.113110\n",
      "min        959.000000\n",
      "25%       1012.000000\n",
      "50%       1017.000000\n",
      "75%       1023.000000\n",
      "max       1052.000000\n",
      "Name: pressure, dtype: float64\n"
     ]
    },
    {
     "data": {
      "image/png": "[encoded data removed]",
      "text/plain": [
       "<matplotlib.figure.Figure at 0x2144720b940>"
      ]
     },
     "metadata": {},
     "output_type": "display_data"
    }
   ],
   "source": [
    "print(total_data.pressure.describe())\n",
    "plot = sns.distplot(total_data.pressure)"
   ]
  },
  {
   "cell_type": "code",
   "execution_count": 23,
   "metadata": {},
   "outputs": [
    {
     "name": "stdout",
     "output_type": "stream",
     "text": [
      "count    44461.000000\n",
      "mean         3.211039\n",
      "std          2.189765\n",
      "min          0.000000\n",
      "25%          2.000000\n",
      "50%          3.000000\n",
      "75%          4.000000\n",
      "max         25.000000\n",
      "Name: wind_speed, dtype: float64\n"
     ]
    },
    {
     "data": {
      "image/png": "[encoded data removed]",
      "text/plain": [
       "<matplotlib.figure.Figure at 0x214472f2b38>"
      ]
     },
     "metadata": {},
     "output_type": "display_data"
    }
   ],
   "source": [
    "print(total_data.wind_speed.describe())\n",
    "plot = sns.distplot(total_data.wind_speed)"
   ]
  },
  {
   "cell_type": "code",
   "execution_count": 24,
   "metadata": {},
   "outputs": [
    {
     "name": "stdout",
     "output_type": "stream",
     "text": [
      "count    44461.000000\n",
      "mean       196.251681\n",
      "std        107.432893\n",
      "min          0.000000\n",
      "25%        104.000000\n",
      "50%        220.000000\n",
      "75%        289.000000\n",
      "max        360.000000\n",
      "Name: wind_direction, dtype: float64\n"
     ]
    },
    {
     "data": {
      "image/png": "[encoded data removed]",
      "text/plain": [
       "<matplotlib.figure.Figure at 0x21449acc198>"
      ]
     },
     "metadata": {},
     "output_type": "display_data"
    }
   ],
   "source": [
    "print(total_data.wind_direction.describe())\n",
    "plot = sns.distplot(total_data.wind_direction)"
   ]
  },
  {
   "cell_type": "code",
   "execution_count": 25,
   "metadata": {},
   "outputs": [
    {
     "data": {
      "text/plain": [
       "<matplotlib.axes._subplots.AxesSubplot at 0x21449b2e8d0>"
      ]
     },
     "execution_count": 25,
     "metadata": {},
     "output_type": "execute_result"
    },
    {
     "data": {
      "image/png": "[encoded data removed]",
      "text/plain": [
       "<matplotlib.figure.Figure at 0x21449af6470>"
      ]
     },
     "metadata": {},
     "output_type": "display_data"
    }
   ],
   "source": [
    "#We are going to extract the hours from the datetime\n",
    "total_data['hour']=total_data.datetime.dt.hour\n",
    "# chose a sample aproximatly 15 days\n",
    "sample=total_data[:360]\n",
    "sample['hour'].plot()"
   ]
  },
  {
   "cell_type": "code",
   "execution_count": 26,
   "metadata": {},
   "outputs": [
    {
     "data": {
      "text/plain": [
       "<matplotlib.axes._subplots.AxesSubplot at 0x21447a227f0>"
      ]
     },
     "execution_count": 26,
     "metadata": {},
     "output_type": "execute_result"
    },
    {
     "data": {
      "image/png": "[encoded data removed]",
      "text/plain": [
       "<matplotlib.figure.Figure at 0x21449b7e7f0>"
      ]
     },
     "metadata": {},
     "output_type": "display_data"
    }
   ],
   "source": [
    "total_data['day']=total_data.datetime.dt.day\n",
    "sample=total_data[650:750]\n",
    "sample['day'].plot()"
   ]
  },
  {
   "cell_type": "code",
   "execution_count": 27,
   "metadata": {},
   "outputs": [
    {
     "data": {
      "text/plain": [
       "<matplotlib.axes._subplots.AxesSubplot at 0x21449b7ab00>"
      ]
     },
     "execution_count": 27,
     "metadata": {},
     "output_type": "execute_result"
    },
    {
     "data": {
      "image/png": "[encoded data removed]",
      "text/plain": [
       "<matplotlib.figure.Figure at 0x21447a921d0>"
      ]
     },
     "metadata": {},
     "output_type": "display_data"
    }
   ],
   "source": [
    "total_data['month']=total_data.datetime.dt.month\n",
    "sample=total_data[650:750]\n",
    "sample['month'].plot()"
   ]
  },
  {
   "cell_type": "markdown",
   "metadata": {},
   "source": [
    "we need to see a cycle betwwn 0 and 23 that repeat 15 times. when the time goes from 23 to 0 we have a jump, so there is a problem about presenting syclical data to machine learning algorithem. we chose one day to have a look at the time arounf midnight"
   ]
  },
  {
   "cell_type": "markdown",
   "metadata": {},
   "source": [
    "between record 34 and 35 : 23-22=1\n",
    "between record 35 and 36 : 0-23=-23\n",
    "so we need to change the encoding of the feature. A common method for encoding cyclical data is to transform the data into two dimensions using a sine and consine transformation."
   ]
  },
  {
   "cell_type": "markdown",
   "metadata": {},
   "source": [
    "we need to see a cycle betwwn 0 and 23 that repeat 15 times. when the time goes from 23 to 0 we have a jump, so there is a problem about presenting syclical data to machine learning algorithem. we chose one day to have a look at the time arounf midnight"
   ]
  },
  {
   "cell_type": "code",
   "execution_count": 28,
   "metadata": {},
   "outputs": [],
   "source": [
    "def cyclical(dataset,column,max_v):\n",
    "    dataset[column+'_sin']=np.sin(2*np.pi*dataset[column]/max_v)\n",
    "    dataset[column+'_cos']=np.cos(2*np.pi*dataset[column]/max_v)\n",
    "    return dataset\n"
   ]
  },
  {
   "cell_type": "code",
   "execution_count": 29,
   "metadata": {},
   "outputs": [
    {
     "data": {
      "text/html": [
       "<div>\n",
       "<style scoped>\n",
       "    .dataframe tbody tr th:only-of-type {\n",
       "        vertical-align: middle;\n",
       "    }\n",
       "\n",
       "    .dataframe tbody tr th {\n",
       "        vertical-align: top;\n",
       "    }\n",
       "\n",
       "    .dataframe thead th {\n",
       "        text-align: right;\n",
       "    }\n",
       "</style>\n",
       "<table border=\"1\" class=\"dataframe\">\n",
       "  <thead>\n",
       "    <tr style=\"text-align: right;\">\n",
       "      <th></th>\n",
       "      <th>datetime</th>\n",
       "      <th>temperature</th>\n",
       "      <th>hour</th>\n",
       "      <th>humidity</th>\n",
       "      <th>pressure</th>\n",
       "      <th>wind_speed</th>\n",
       "      <th>wind_direction</th>\n",
       "      <th>rides</th>\n",
       "      <th>date</th>\n",
       "      <th>day</th>\n",
       "      <th>month</th>\n",
       "    </tr>\n",
       "  </thead>\n",
       "  <tbody>\n",
       "    <tr>\n",
       "      <th>0</th>\n",
       "      <td>2012-10-01 12:00:00</td>\n",
       "      <td>15.070000</td>\n",
       "      <td>12</td>\n",
       "      <td>58.0</td>\n",
       "      <td>1012.0</td>\n",
       "      <td>7.0</td>\n",
       "      <td>260.0</td>\n",
       "      <td>23</td>\n",
       "      <td>2012-10-01</td>\n",
       "      <td>1</td>\n",
       "      <td>10</td>\n",
       "    </tr>\n",
       "    <tr>\n",
       "      <th>1</th>\n",
       "      <td>2012-10-01 13:00:00</td>\n",
       "      <td>15.070000</td>\n",
       "      <td>13</td>\n",
       "      <td>58.0</td>\n",
       "      <td>1012.0</td>\n",
       "      <td>7.0</td>\n",
       "      <td>260.0</td>\n",
       "      <td>22</td>\n",
       "      <td>2012-10-01</td>\n",
       "      <td>1</td>\n",
       "      <td>10</td>\n",
       "    </tr>\n",
       "    <tr>\n",
       "      <th>2</th>\n",
       "      <td>2012-10-01 14:00:00</td>\n",
       "      <td>15.097676</td>\n",
       "      <td>14</td>\n",
       "      <td>57.0</td>\n",
       "      <td>1012.0</td>\n",
       "      <td>7.0</td>\n",
       "      <td>260.0</td>\n",
       "      <td>21</td>\n",
       "      <td>2012-10-01</td>\n",
       "      <td>1</td>\n",
       "      <td>10</td>\n",
       "    </tr>\n",
       "    <tr>\n",
       "      <th>3</th>\n",
       "      <td>2012-10-01 15:00:00</td>\n",
       "      <td>15.176940</td>\n",
       "      <td>15</td>\n",
       "      <td>57.0</td>\n",
       "      <td>1012.0</td>\n",
       "      <td>7.0</td>\n",
       "      <td>260.0</td>\n",
       "      <td>20</td>\n",
       "      <td>2012-10-01</td>\n",
       "      <td>1</td>\n",
       "      <td>10</td>\n",
       "    </tr>\n",
       "    <tr>\n",
       "      <th>4</th>\n",
       "      <td>2012-10-01 16:00:00</td>\n",
       "      <td>15.256203</td>\n",
       "      <td>16</td>\n",
       "      <td>57.0</td>\n",
       "      <td>1012.0</td>\n",
       "      <td>7.0</td>\n",
       "      <td>260.0</td>\n",
       "      <td>19</td>\n",
       "      <td>2012-10-01</td>\n",
       "      <td>1</td>\n",
       "      <td>10</td>\n",
       "    </tr>\n",
       "  </tbody>\n",
       "</table>\n",
       "</div>"
      ],
      "text/plain": [
       "             datetime  temperature  hour  humidity  pressure  wind_speed  \\\n",
       "0 2012-10-01 12:00:00    15.070000    12      58.0    1012.0         7.0   \n",
       "1 2012-10-01 13:00:00    15.070000    13      58.0    1012.0         7.0   \n",
       "2 2012-10-01 14:00:00    15.097676    14      57.0    1012.0         7.0   \n",
       "3 2012-10-01 15:00:00    15.176940    15      57.0    1012.0         7.0   \n",
       "4 2012-10-01 16:00:00    15.256203    16      57.0    1012.0         7.0   \n",
       "\n",
       "   wind_direction  rides        date  day  month  \n",
       "0           260.0     23  2012-10-01    1     10  \n",
       "1           260.0     22  2012-10-01    1     10  \n",
       "2           260.0     21  2012-10-01    1     10  \n",
       "3           260.0     20  2012-10-01    1     10  \n",
       "4           260.0     19  2012-10-01    1     10  "
      ]
     },
     "execution_count": 29,
     "metadata": {},
     "output_type": "execute_result"
    }
   ],
   "source": [
    "total_data.head(5)"
   ]
  },
  {
   "cell_type": "code",
   "execution_count": null,
   "metadata": {},
   "outputs": [],
   "source": []
  },
  {
   "cell_type": "markdown",
   "metadata": {},
   "source": [
    "between record 34 and 35 : 23-22=1\n",
    "between record 35 and 36 : 0-23=-23\n",
    "so we need to change the encoding of the feature. A common method for encoding cyclical data is to transform the data into two dimensions using a sine and consine transformation."
   ]
  },
  {
   "cell_type": "code",
   "execution_count": 30,
   "metadata": {},
   "outputs": [],
   "source": [
    "total_data= cyclical(total_data,'hour',23.0)\n",
    "total_data= cyclical(total_data,'day',365.0)\n",
    "total_data= cyclical(total_data,'month',12.0)"
   ]
  },
  {
   "cell_type": "code",
   "execution_count": 31,
   "metadata": {},
   "outputs": [
    {
     "data": {
      "text/html": [
       "<div>\n",
       "<style scoped>\n",
       "    .dataframe tbody tr th:only-of-type {\n",
       "        vertical-align: middle;\n",
       "    }\n",
       "\n",
       "    .dataframe tbody tr th {\n",
       "        vertical-align: top;\n",
       "    }\n",
       "\n",
       "    .dataframe thead th {\n",
       "        text-align: right;\n",
       "    }\n",
       "</style>\n",
       "<table border=\"1\" class=\"dataframe\">\n",
       "  <thead>\n",
       "    <tr style=\"text-align: right;\">\n",
       "      <th></th>\n",
       "      <th>year</th>\n",
       "      <th>hour_sin</th>\n",
       "      <th>hour_cos</th>\n",
       "      <th>day_sin</th>\n",
       "      <th>day_cos</th>\n",
       "      <th>month_sin</th>\n",
       "      <th>month_cos</th>\n",
       "      <th>humidity</th>\n",
       "      <th>wind_speed</th>\n",
       "      <th>wind_direction</th>\n",
       "      <th>temperature</th>\n",
       "      <th>day</th>\n",
       "      <th>month</th>\n",
       "      <th>hour</th>\n",
       "      <th>rides</th>\n",
       "    </tr>\n",
       "  </thead>\n",
       "  <tbody>\n",
       "    <tr>\n",
       "      <th>19716</th>\n",
       "      <td>2015</td>\n",
       "      <td>0.000000</td>\n",
       "      <td>1.000000</td>\n",
       "      <td>0.017213</td>\n",
       "      <td>0.999852</td>\n",
       "      <td>0.5</td>\n",
       "      <td>0.866025</td>\n",
       "      <td>59.0</td>\n",
       "      <td>2.0</td>\n",
       "      <td>249.0</td>\n",
       "      <td>-5.100</td>\n",
       "      <td>1</td>\n",
       "      <td>1</td>\n",
       "      <td>0</td>\n",
       "      <td>65</td>\n",
       "    </tr>\n",
       "    <tr>\n",
       "      <th>19717</th>\n",
       "      <td>2015</td>\n",
       "      <td>0.269797</td>\n",
       "      <td>0.962917</td>\n",
       "      <td>0.017213</td>\n",
       "      <td>0.999852</td>\n",
       "      <td>0.5</td>\n",
       "      <td>0.866025</td>\n",
       "      <td>59.0</td>\n",
       "      <td>2.0</td>\n",
       "      <td>249.0</td>\n",
       "      <td>-5.100</td>\n",
       "      <td>1</td>\n",
       "      <td>1</td>\n",
       "      <td>1</td>\n",
       "      <td>64</td>\n",
       "    </tr>\n",
       "    <tr>\n",
       "      <th>19718</th>\n",
       "      <td>2015</td>\n",
       "      <td>0.519584</td>\n",
       "      <td>0.854419</td>\n",
       "      <td>0.017213</td>\n",
       "      <td>0.999852</td>\n",
       "      <td>0.5</td>\n",
       "      <td>0.866025</td>\n",
       "      <td>58.0</td>\n",
       "      <td>2.0</td>\n",
       "      <td>246.0</td>\n",
       "      <td>-5.964</td>\n",
       "      <td>1</td>\n",
       "      <td>1</td>\n",
       "      <td>2</td>\n",
       "      <td>64</td>\n",
       "    </tr>\n",
       "    <tr>\n",
       "      <th>19719</th>\n",
       "      <td>2015</td>\n",
       "      <td>0.730836</td>\n",
       "      <td>0.682553</td>\n",
       "      <td>0.017213</td>\n",
       "      <td>0.999852</td>\n",
       "      <td>0.5</td>\n",
       "      <td>0.866025</td>\n",
       "      <td>58.0</td>\n",
       "      <td>2.0</td>\n",
       "      <td>246.0</td>\n",
       "      <td>-5.964</td>\n",
       "      <td>1</td>\n",
       "      <td>1</td>\n",
       "      <td>3</td>\n",
       "      <td>63</td>\n",
       "    </tr>\n",
       "    <tr>\n",
       "      <th>19720</th>\n",
       "      <td>2015</td>\n",
       "      <td>0.887885</td>\n",
       "      <td>0.460065</td>\n",
       "      <td>0.017213</td>\n",
       "      <td>0.999852</td>\n",
       "      <td>0.5</td>\n",
       "      <td>0.866025</td>\n",
       "      <td>58.0</td>\n",
       "      <td>2.0</td>\n",
       "      <td>246.0</td>\n",
       "      <td>-5.964</td>\n",
       "      <td>1</td>\n",
       "      <td>1</td>\n",
       "      <td>4</td>\n",
       "      <td>62</td>\n",
       "    </tr>\n",
       "  </tbody>\n",
       "</table>\n",
       "</div>"
      ],
      "text/plain": [
       "       year  hour_sin  hour_cos   day_sin   day_cos  month_sin  month_cos  \\\n",
       "19716  2015  0.000000  1.000000  0.017213  0.999852        0.5   0.866025   \n",
       "19717  2015  0.269797  0.962917  0.017213  0.999852        0.5   0.866025   \n",
       "19718  2015  0.519584  0.854419  0.017213  0.999852        0.5   0.866025   \n",
       "19719  2015  0.730836  0.682553  0.017213  0.999852        0.5   0.866025   \n",
       "19720  2015  0.887885  0.460065  0.017213  0.999852        0.5   0.866025   \n",
       "\n",
       "       humidity  wind_speed  wind_direction  temperature  day  month  hour  \\\n",
       "19716      59.0         2.0           249.0       -5.100    1      1     0   \n",
       "19717      59.0         2.0           249.0       -5.100    1      1     1   \n",
       "19718      58.0         2.0           246.0       -5.964    1      1     2   \n",
       "19719      58.0         2.0           246.0       -5.964    1      1     3   \n",
       "19720      58.0         2.0           246.0       -5.964    1      1     4   \n",
       "\n",
       "       rides  \n",
       "19716     65  \n",
       "19717     64  \n",
       "19718     64  \n",
       "19719     63  \n",
       "19720     62  "
      ]
     },
     "execution_count": 31,
     "metadata": {},
     "output_type": "execute_result"
    }
   ],
   "source": [
    "total_data['year']=total_data.datetime.dt.year\n",
    "total_data=total_data[total_data.year==2015]    \n",
    "total_data=total_data[['year','hour_sin','hour_cos','day_sin','day_cos','month_sin','month_cos','humidity','wind_speed','wind_direction','temperature','day','month','hour','rides']]\n",
    "total_data.head(5)\n"
   ]
  },
  {
   "cell_type": "code",
   "execution_count": 32,
   "metadata": {},
   "outputs": [
    {
     "data": {
      "image/png": "[encoded data removed]",
      "text/plain": [
       "<matplotlib.figure.Figure at 0x21447af8630>"
      ]
     },
     "metadata": {},
     "output_type": "display_data"
    }
   ],
   "source": [
    "total_data.plot.scatter('hour_sin','hour_cos').set_aspect('equal')"
   ]
  },
  {
   "cell_type": "code",
   "execution_count": 33,
   "metadata": {},
   "outputs": [],
   "source": [
    "from sklearn.model_selection import train_test_split\n",
    "\n",
    "data_train, data_test = train_test_split(total_data, test_size=0.4)\n",
    "data_test, data_val = train_test_split(data_test, test_size=0.5)"
   ]
  },
  {
   "cell_type": "code",
   "execution_count": 34,
   "metadata": {},
   "outputs": [],
   "source": [
    "#from keras.models import Sequential, Model\n",
    "#from keras.layers import Input, Dense, Activation\n",
    "#from keras.optimizers import Adam\n",
    "\n",
    "#def train_model(X_train, y_train, X_test, y_test, epochs):\n",
    "#    model = Sequential(\n",
    " #       [\n",
    "  #          Dense(10, activation=\"relu\", input_shape=(X_train.shape[1],)),\n",
    "#             Dense(10, activation=\"relu\"),\n",
    "#             Dense(10, activation=\"relu\"),\n",
    "   #         Dense(1, activation=\"linear\")\n",
    "    #    ]\n",
    "   # )\n",
    "    #model.compile(optimizer=Adam(), loss=\"mean_squared_error\")\n",
    "    \n",
    "    #history = model.fit(X_train, y_train, epochs=epochs, validation_data=(X_test, y_test))\n",
    "    #return model, history"
   ]
  },
  {
   "cell_type": "code",
   "execution_count": 35,
   "metadata": {},
   "outputs": [],
   "source": [
    "#def get_unencoded_features(df):\n",
    "#    return df[['month', 'day', 'hour']]"
   ]
  },
  {
   "cell_type": "code",
   "execution_count": 183,
   "metadata": {},
   "outputs": [],
   "source": [
    "#X_train = get_unencoded_features(data_train)\n",
    "#X_test  = get_unencoded_features(data_test)\n",
    "#y_train = data_train.temperature\n",
    "#y_test  = data_test.temperature"
   ]
  },
  {
   "cell_type": "code",
   "execution_count": 184,
   "metadata": {},
   "outputs": [],
   "source": [
    "#model_unencoded, unencoded_hist = train_model(\n",
    "#    get_unencoded_features(data_train),\n",
    "#    data_train.temperature,\n",
    "#    get_unencoded_features(data_test),\n",
    "#    data_test.temperature,\n",
    "#    epochs=5\n",
    "#)"
   ]
  },
  {
   "cell_type": "code",
   "execution_count": 185,
   "metadata": {},
   "outputs": [],
   "source": [
    "#def get_encoded_features(df):\n",
    "#    return df[['month_sin', 'month_cos', 'day_sin', 'day_cos', 'hour_sin', 'hour_cos']]"
   ]
  },
  {
   "cell_type": "code",
   "execution_count": 186,
   "metadata": {},
   "outputs": [],
   "source": [
    "#X_train = get_encoded_features(data_train)\n",
    "#X_test  = get_encoded_features(data_test)\n",
    "#y_train = data_train.temperature\n",
    "#y_test  = data_test.temperature"
   ]
  },
  {
   "cell_type": "code",
   "execution_count": 187,
   "metadata": {},
   "outputs": [],
   "source": [
    "#model_encoded, encoded_hist = train_model(\n",
    " #   get_encoded_features(data_train),\n",
    " #   data_train.temperature,\n",
    " #   get_encoded_features(data_test),\n",
    " #   data_test.temperature,\n",
    " #   epochs=5\n",
    "#)"
   ]
  },
  {
   "cell_type": "code",
   "execution_count": 188,
   "metadata": {},
   "outputs": [],
   "source": [
    "#plt.plot(unencoded_hist.history['val_loss'], \"r\")\n",
    "#ax = plt.plot(encoded_hist.history['val_loss'], \"b\")"
   ]
  },
  {
   "cell_type": "markdown",
   "metadata": {},
   "source": [
    "now, it is prefect to present as a cyclical feature for machine learning algorithms."
   ]
  },
  {
   "cell_type": "markdown",
   "metadata": {},
   "source": [
    "Let's split our data into training and test sets."
   ]
  },
  {
   "cell_type": "markdown",
   "metadata": {},
   "source": [
    "# training and Test\n"
   ]
  },
  {
   "cell_type": "code",
   "execution_count": 189,
   "metadata": {},
   "outputs": [
    {
     "name": "stdout",
     "output_type": "stream",
     "text": [
      "X_train (7008, 6)\n",
      "y_train (7008, 1)\n",
      "X_test (1752, 6)\n",
      "y_test (1752, 1)\n"
     ]
    }
   ],
   "source": [
    "# split the data\n",
    "#X_columns=['hour_sin','hour_cos','day_sin','day_cos','month_sin','month_cos','humidity','wind_speed','wind_direction']\n",
    "X_columns=['humidity','wind_speed','wind_direction','month_sin','month_cos','temperature']\n",
    "#X_columns=['hour','day','month']\n",
    "y_column=['rides']\n",
    "\n",
    "\n",
    "threshold = 0.8\n",
    "X = total_data[X_columns]\n",
    "y = total_data[y_column]\n",
    "X_train, X_test, y_train, y_test = train_test_split(X, y, test_size=1.0-threshold)\n",
    "\n",
    "print('X_train', X_train.shape)\n",
    "print('y_train', y_train.shape)\n",
    "print('X_test', X_test.shape)\n",
    "print('y_test', y_test.shape)\n"
   ]
  },
  {
   "cell_type": "markdown",
   "metadata": {},
   "source": [
    "Model Training / Evaluation - Using Split"
   ]
  },
  {
   "cell_type": "code",
   "execution_count": 190,
   "metadata": {},
   "outputs": [
    {
     "name": "stdout",
     "output_type": "stream",
     "text": [
      "MODEL LinearRegression\n",
      "MAE 4.566242916978779\n",
      "RMSE 6.136150327862817\n"
     ]
    },
    {
     "data": {
      "image/png": "[encoded data removed]",
      "text/plain": [
       "<matplotlib.figure.Figure at 0x202af3c1da0>"
      ]
     },
     "metadata": {},
     "output_type": "display_data"
    },
    {
     "name": "stdout",
     "output_type": "stream",
     "text": [
      "Feature Importance\n",
      "                0         1\n",
      "4       month_cos  0.942887\n",
      "0        humidity  0.327527\n",
      "5     temperature  0.222454\n",
      "2  wind_direction  0.002849\n",
      "1      wind_speed -0.136745\n",
      "\n",
      "MODEL RandomForestRegressor\n",
      "MAE 2.5036503180039142\n",
      "RMSE 4.375683758914686\n"
     ]
    },
    {
     "data": {
      "image/png": "[encoded data removed]",
      "text/plain": [
       "<matplotlib.figure.Figure at 0x202afae7748>"
      ]
     },
     "metadata": {},
     "output_type": "display_data"
    },
    {
     "name": "stdout",
     "output_type": "stream",
     "text": [
      "Feature Importance\n",
      "                0         1\n",
      "0        humidity  0.473501\n",
      "5     temperature  0.247646\n",
      "2  wind_direction  0.100466\n",
      "3       month_sin  0.091368\n",
      "4       month_cos  0.050327\n",
      "\n"
     ]
    },
    {
     "data": {
      "text/html": [
       "<div>\n",
       "<style scoped>\n",
       "    .dataframe tbody tr th:only-of-type {\n",
       "        vertical-align: middle;\n",
       "    }\n",
       "\n",
       "    .dataframe tbody tr th {\n",
       "        vertical-align: top;\n",
       "    }\n",
       "\n",
       "    .dataframe thead th {\n",
       "        text-align: right;\n",
       "    }\n",
       "</style>\n",
       "<table border=\"1\" class=\"dataframe\">\n",
       "  <thead>\n",
       "    <tr style=\"text-align: right;\">\n",
       "      <th></th>\n",
       "      <th>model</th>\n",
       "      <th>mae</th>\n",
       "      <th>rmse</th>\n",
       "    </tr>\n",
       "  </thead>\n",
       "  <tbody>\n",
       "    <tr>\n",
       "      <th>1</th>\n",
       "      <td>RandomForestRegressor</td>\n",
       "      <td>2.503650</td>\n",
       "      <td>4.375684</td>\n",
       "    </tr>\n",
       "    <tr>\n",
       "      <th>0</th>\n",
       "      <td>LinearRegression</td>\n",
       "      <td>4.566243</td>\n",
       "      <td>6.136150</td>\n",
       "    </tr>\n",
       "  </tbody>\n",
       "</table>\n",
       "</div>"
      ],
      "text/plain": [
       "                   model       mae      rmse\n",
       "1  RandomForestRegressor  2.503650  4.375684\n",
       "0       LinearRegression  4.566243  6.136150"
      ]
     },
     "execution_count": 190,
     "metadata": {},
     "output_type": "execute_result"
    }
   ],
   "source": [
    "from sklearn.linear_model import LinearRegression\n",
    "from sklearn.ensemble import RandomForestRegressor\n",
    "models = [\n",
    "    ('LinearRegression', LinearRegression()),\n",
    "    ('RandomForestRegressor', RandomForestRegressor())\n",
    "]\n",
    "results = []\n",
    "for m in models:\n",
    "    print('MODEL', m[0])\n",
    "    model = m[1]\n",
    "    model.fit(X_train, y_train.values.ravel())\n",
    "    y_pred = model.predict(X_test)\n",
    "    mae = mean_absolute_error(y_test, y_pred)\n",
    "    rmse = np.sqrt(mean_squared_error(y_test, y_pred))\n",
    "    print('MAE', mae)\n",
    "    print('RMSE', rmse)\n",
    "    # print the chart\n",
    "    plt.scatter(y_test, y_pred, alpha=0.3)\n",
    "    plt.plot(range(0,5000000, 100), range(0,5000000, 100), '--r', alpha=0.3, label='Line1')\n",
    "    plt.title(m[0])\n",
    "    plt.xlabel('True Value')\n",
    "    plt.ylabel('Predict Value')\n",
    "    plt.xlim([0, 5000000])\n",
    "    plt.ylim([0, 5000000])\n",
    "    plt.show()\n",
    "    results.append([m[0], mae, rmse])\n",
    "    \n",
    "    # if there is a feature importance, print top 5\n",
    "    importance = []\n",
    "    if hasattr(model, 'feature_importances_'):\n",
    "        print('Feature Importance')\n",
    "        importance = []\n",
    "        for i in range(len(X_columns)):\n",
    "            importance.append([X_columns[i], model.feature_importances_[i]])\n",
    "        print(pd.DataFrame(importance).sort_values(by=1, ascending=False).head())\n",
    "    elif hasattr(model, 'coef_'):\n",
    "        print('Feature Importance')\n",
    "        for i in range(len(X_columns)):\n",
    "            importance.append([X_columns[i], model.coef_[i]])\n",
    "        print(pd.DataFrame(importance).sort_values(by=1, ascending=False).head())\n",
    "        \n",
    "    print('')\n",
    "\n",
    "# sort the results and print as a table\n",
    "df_results = pd.DataFrame(results)\n",
    "df_results.columns = ['model', 'mae', 'rmse']\n",
    "df_results = df_results.sort_values(by='mae')\n",
    "df_results"
   ]
  },
  {
   "cell_type": "code",
   "execution_count": 191,
   "metadata": {},
   "outputs": [
    {
     "name": "stderr",
     "output_type": "stream",
     "text": [
      "C:\\Users\\Negah\\Anaconda3\\lib\\site-packages\\ipykernel_launcher.py:5: DataConversionWarning: A column-vector y was passed when a 1d array was expected. Please change the shape of y to (n_samples,), for example using ravel().\n",
      "  \"\"\"\n"
     ]
    }
   ],
   "source": [
    "from sklearn.linear_model import LinearRegression\n",
    "from sklearn.ensemble import RandomForestRegressor\n",
    "#model = LinearRegression()\n",
    "model = RandomForestRegressor()\n",
    "model.fit(X_train, y_train)\n",
    "y_pred = model.predict(X_test)"
   ]
  },
  {
   "cell_type": "code",
   "execution_count": 192,
   "metadata": {},
   "outputs": [
    {
     "data": {
      "text/html": [
       "<div>\n",
       "<style scoped>\n",
       "    .dataframe tbody tr th:only-of-type {\n",
       "        vertical-align: middle;\n",
       "    }\n",
       "\n",
       "    .dataframe tbody tr th {\n",
       "        vertical-align: top;\n",
       "    }\n",
       "\n",
       "    .dataframe thead th {\n",
       "        text-align: right;\n",
       "    }\n",
       "</style>\n",
       "<table border=\"1\" class=\"dataframe\">\n",
       "  <thead>\n",
       "    <tr style=\"text-align: right;\">\n",
       "      <th></th>\n",
       "      <th>0</th>\n",
       "      <th>1</th>\n",
       "    </tr>\n",
       "  </thead>\n",
       "  <tbody>\n",
       "    <tr>\n",
       "      <th>0</th>\n",
       "      <td>humidity</td>\n",
       "      <td>0.469295</td>\n",
       "    </tr>\n",
       "    <tr>\n",
       "      <th>5</th>\n",
       "      <td>temperature</td>\n",
       "      <td>0.260655</td>\n",
       "    </tr>\n",
       "    <tr>\n",
       "      <th>2</th>\n",
       "      <td>wind_direction</td>\n",
       "      <td>0.098753</td>\n",
       "    </tr>\n",
       "    <tr>\n",
       "      <th>3</th>\n",
       "      <td>month_sin</td>\n",
       "      <td>0.081113</td>\n",
       "    </tr>\n",
       "    <tr>\n",
       "      <th>4</th>\n",
       "      <td>month_cos</td>\n",
       "      <td>0.051372</td>\n",
       "    </tr>\n",
       "    <tr>\n",
       "      <th>1</th>\n",
       "      <td>wind_speed</td>\n",
       "      <td>0.038812</td>\n",
       "    </tr>\n",
       "  </tbody>\n",
       "</table>\n",
       "</div>"
      ],
      "text/plain": [
       "                0         1\n",
       "0        humidity  0.469295\n",
       "5     temperature  0.260655\n",
       "2  wind_direction  0.098753\n",
       "3       month_sin  0.081113\n",
       "4       month_cos  0.051372\n",
       "1      wind_speed  0.038812"
      ]
     },
     "execution_count": 192,
     "metadata": {},
     "output_type": "execute_result"
    }
   ],
   "source": [
    "# feature importance\n",
    "importance = []\n",
    "for i in range(len(X_columns)):\n",
    "    importance.append([X_columns[i], model.feature_importances_[i]])\n",
    "pd.DataFrame(importance).sort_values(by=1, ascending=False)"
   ]
  },
  {
   "cell_type": "code",
   "execution_count": 193,
   "metadata": {},
   "outputs": [
    {
     "name": "stdout",
     "output_type": "stream",
     "text": [
      "MAE 2.3701595229035295\n",
      "RMSE 4.218605685353494\n"
     ]
    }
   ],
   "source": [
    "from sklearn.metrics import mean_absolute_error\n",
    "from sklearn.metrics import mean_squared_error\n",
    "print('MAE', mean_absolute_error(y_test, y_pred))\n",
    "print('RMSE', np.sqrt(mean_squared_error(y_test, y_pred)))"
   ]
  },
  {
   "cell_type": "code",
   "execution_count": 194,
   "metadata": {},
   "outputs": [
    {
     "data": {
      "image/png": "[encoded data removed]",
      "text/plain": [
       "<matplotlib.figure.Figure at 0x202aefd1358>"
      ]
     },
     "metadata": {},
     "output_type": "display_data"
    }
   ],
   "source": [
    "plt.scatter(y_test, y_pred, alpha=0.3)\n",
    "plt.show()"
   ]
  },
  {
   "cell_type": "raw",
   "metadata": {},
   "source": [
    "# "
   ]
  },
  {
   "cell_type": "code",
   "execution_count": null,
   "metadata": {},
   "outputs": [],
   "source": []
  },
  {
   "cell_type": "code",
   "execution_count": null,
   "metadata": {},
   "outputs": [],
   "source": []
  },
  {
   "cell_type": "code",
   "execution_count": null,
   "metadata": {},
   "outputs": [],
   "source": []
  },
  {
   "cell_type": "code",
   "execution_count": null,
   "metadata": {},
   "outputs": [],
   "source": []
  },
  {
   "cell_type": "code",
   "execution_count": null,
   "metadata": {},
   "outputs": [],
   "source": []
  }
 ],
 "metadata": {
  "kernelspec": {
   "display_name": "Python 3",
   "language": "python",
   "name": "python3"
  },
  "language_info": {
   "codemirror_mode": {
    "name": "ipython",
    "version": 3
   },
   "file_extension": ".py",
   "mimetype": "text/x-python",
   "name": "python",
   "nbconvert_exporter": "python",
   "pygments_lexer": "ipython3",
   "version": "3.6.4"
  }
 },
 "nbformat": 4,
 "nbformat_minor": 2
}
