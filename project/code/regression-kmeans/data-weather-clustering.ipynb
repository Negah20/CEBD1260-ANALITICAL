{
 "cells": [
  {
   "cell_type": "markdown",
   "metadata": {},
   "source": [
    ".pandas is a software library written for the Python programming language for data manipulation and analysis.\n",
    ".NumPymis a library for the Python programming language, adding support for large, multi-dimensional arrays and matrices, along with a large collection of high-level mathematical functions to operate on these arrays.\n",
    ".Matplotlib is a plotting library for Python. It is used along with NumPy to provide an environment that is an effective open source alternative for MatLab.\n",
    ".matplotlib.pyplot is a collection of command style functions that make matplotlib work like MATLAB.\n",
    ".Seaborn is a Python visualization library based on matplotlib. It provides a high-level interface for drawing attractive statistical graphics."
   ]
  },
  {
   "cell_type": "code",
   "execution_count": 3,
   "metadata": {
    "collapsed": true
   },
   "outputs": [],
   "source": [
    "import pandas as pd\n",
    "import numpy  as np\n",
    "import matplotlib as mpl\n",
    "import matplotlib.pyplot as plt\n",
    "import seaborn as sns\n",
    "mpl.style.use('seaborn')\n"
   ]
  },
  {
   "cell_type": "markdown",
   "metadata": {},
   "source": [
    "# Problem definition"
   ]
  },
  {
   "cell_type": "raw",
   "metadata": {},
   "source": [
    " We will create a model that attempts to predict the the taxi rides in New York for a given month, day and hour and temperature."
   ]
  },
  {
   "cell_type": "markdown",
   "metadata": {},
   "source": [
    "# preparing data"
   ]
  },
  {
   "cell_type": "code",
   "execution_count": 5,
   "metadata": {},
   "outputs": [
    {
     "data": {
      "text/html": [
       "<div>\n",
       "<style>\n",
       "    .dataframe thead tr:only-child th {\n",
       "        text-align: right;\n",
       "    }\n",
       "\n",
       "    .dataframe thead th {\n",
       "        text-align: left;\n",
       "    }\n",
       "\n",
       "    .dataframe tbody tr th {\n",
       "        vertical-align: top;\n",
       "    }\n",
       "</style>\n",
       "<table border=\"1\" class=\"dataframe\">\n",
       "  <thead>\n",
       "    <tr style=\"text-align: right;\">\n",
       "      <th></th>\n",
       "      <th>datetime</th>\n",
       "      <th>temperature</th>\n",
       "      <th>humidity</th>\n",
       "      <th>pressure</th>\n",
       "      <th>wind_speed</th>\n",
       "      <th>wind_direction</th>\n",
       "      <th>rides</th>\n",
       "      <th>date</th>\n",
       "      <th>hour</th>\n",
       "      <th>month</th>\n",
       "      <th>day</th>\n",
       "      <th>year</th>\n",
       "      <th>hour_sin</th>\n",
       "      <th>hour_cos</th>\n",
       "      <th>day_sin</th>\n",
       "      <th>day_cos</th>\n",
       "      <th>month_sin</th>\n",
       "      <th>month_cos</th>\n",
       "    </tr>\n",
       "  </thead>\n",
       "  <tbody>\n",
       "    <tr>\n",
       "      <th>537</th>\n",
       "      <td>2015-01-23 09:00:00</td>\n",
       "      <td>-8.505000</td>\n",
       "      <td>87.0</td>\n",
       "      <td>1025.0</td>\n",
       "      <td>1.0</td>\n",
       "      <td>299.0</td>\n",
       "      <td>52</td>\n",
       "      <td>2015-01-23</td>\n",
       "      <td>9</td>\n",
       "      <td>1</td>\n",
       "      <td>23</td>\n",
       "      <td>2015</td>\n",
       "      <td>6.310879e-01</td>\n",
       "      <td>-0.775711</td>\n",
       "      <td>0.385663</td>\n",
       "      <td>0.922640</td>\n",
       "      <td>0.500000</td>\n",
       "      <td>8.660254e-01</td>\n",
       "    </tr>\n",
       "    <tr>\n",
       "      <th>7223</th>\n",
       "      <td>2015-10-28 23:00:00</td>\n",
       "      <td>17.980000</td>\n",
       "      <td>82.0</td>\n",
       "      <td>1009.0</td>\n",
       "      <td>5.0</td>\n",
       "      <td>160.0</td>\n",
       "      <td>32</td>\n",
       "      <td>2015-10-28</td>\n",
       "      <td>23</td>\n",
       "      <td>10</td>\n",
       "      <td>28</td>\n",
       "      <td>2015</td>\n",
       "      <td>-2.449294e-16</td>\n",
       "      <td>1.000000</td>\n",
       "      <td>0.463550</td>\n",
       "      <td>0.886071</td>\n",
       "      <td>-0.866025</td>\n",
       "      <td>5.000000e-01</td>\n",
       "    </tr>\n",
       "    <tr>\n",
       "      <th>6691</th>\n",
       "      <td>2015-10-06 19:00:00</td>\n",
       "      <td>21.070000</td>\n",
       "      <td>37.0</td>\n",
       "      <td>1015.0</td>\n",
       "      <td>4.0</td>\n",
       "      <td>310.0</td>\n",
       "      <td>26</td>\n",
       "      <td>2015-10-06</td>\n",
       "      <td>19</td>\n",
       "      <td>10</td>\n",
       "      <td>6</td>\n",
       "      <td>2015</td>\n",
       "      <td>-8.878852e-01</td>\n",
       "      <td>0.460065</td>\n",
       "      <td>0.103102</td>\n",
       "      <td>0.994671</td>\n",
       "      <td>-0.866025</td>\n",
       "      <td>5.000000e-01</td>\n",
       "    </tr>\n",
       "    <tr>\n",
       "      <th>1691</th>\n",
       "      <td>2015-03-12 11:00:00</td>\n",
       "      <td>0.792000</td>\n",
       "      <td>89.0</td>\n",
       "      <td>1038.0</td>\n",
       "      <td>4.0</td>\n",
       "      <td>310.0</td>\n",
       "      <td>45</td>\n",
       "      <td>2015-03-12</td>\n",
       "      <td>11</td>\n",
       "      <td>3</td>\n",
       "      <td>12</td>\n",
       "      <td>2015</td>\n",
       "      <td>1.361666e-01</td>\n",
       "      <td>-0.990686</td>\n",
       "      <td>0.205104</td>\n",
       "      <td>0.978740</td>\n",
       "      <td>1.000000</td>\n",
       "      <td>6.123234e-17</td>\n",
       "    </tr>\n",
       "    <tr>\n",
       "      <th>860</th>\n",
       "      <td>2015-02-05 20:00:00</td>\n",
       "      <td>-5.817316</td>\n",
       "      <td>76.0</td>\n",
       "      <td>1021.0</td>\n",
       "      <td>5.0</td>\n",
       "      <td>327.0</td>\n",
       "      <td>45</td>\n",
       "      <td>2015-02-05</td>\n",
       "      <td>20</td>\n",
       "      <td>2</td>\n",
       "      <td>5</td>\n",
       "      <td>2015</td>\n",
       "      <td>-7.308360e-01</td>\n",
       "      <td>0.682553</td>\n",
       "      <td>0.085965</td>\n",
       "      <td>0.996298</td>\n",
       "      <td>0.866025</td>\n",
       "      <td>5.000000e-01</td>\n",
       "    </tr>\n",
       "  </tbody>\n",
       "</table>\n",
       "</div>"
      ],
      "text/plain": [
       "                datetime  temperature  humidity  pressure  wind_speed  \\\n",
       "537  2015-01-23 09:00:00    -8.505000      87.0    1025.0         1.0   \n",
       "7223 2015-10-28 23:00:00    17.980000      82.0    1009.0         5.0   \n",
       "6691 2015-10-06 19:00:00    21.070000      37.0    1015.0         4.0   \n",
       "1691 2015-03-12 11:00:00     0.792000      89.0    1038.0         4.0   \n",
       "860  2015-02-05 20:00:00    -5.817316      76.0    1021.0         5.0   \n",
       "\n",
       "      wind_direction  rides        date  hour  month  day  year      hour_sin  \\\n",
       "537            299.0     52  2015-01-23     9      1   23  2015  6.310879e-01   \n",
       "7223           160.0     32  2015-10-28    23     10   28  2015 -2.449294e-16   \n",
       "6691           310.0     26  2015-10-06    19     10    6  2015 -8.878852e-01   \n",
       "1691           310.0     45  2015-03-12    11      3   12  2015  1.361666e-01   \n",
       "860            327.0     45  2015-02-05    20      2    5  2015 -7.308360e-01   \n",
       "\n",
       "      hour_cos   day_sin   day_cos  month_sin     month_cos  \n",
       "537  -0.775711  0.385663  0.922640   0.500000  8.660254e-01  \n",
       "7223  1.000000  0.463550  0.886071  -0.866025  5.000000e-01  \n",
       "6691  0.460065  0.103102  0.994671  -0.866025  5.000000e-01  \n",
       "1691 -0.990686  0.205104  0.978740   1.000000  6.123234e-17  \n",
       "860   0.682553  0.085965  0.996298   0.866025  5.000000e-01  "
      ]
     },
     "execution_count": 5,
     "metadata": {},
     "output_type": "execute_result"
    }
   ],
   "source": [
    "total_data=pd.read_csv(\"../../data/Processed/New York_Weather_cyclical_taxi.csv\", parse_dates=['datetime'])\n",
    "total_data.sample(5)"
   ]
  },
  {
   "cell_type": "markdown",
   "metadata": {},
   "source": [
    "For each city we have timeseries in a column. We are going to chose New York as our chosen city and  our chosen features. "
   ]
  },
  {
   "cell_type": "code",
   "execution_count": 7,
   "metadata": {
    "collapsed": true
   },
   "outputs": [],
   "source": [
    "from sklearn.preprocessing import StandardScaler\n",
    "from sklearn.cluster import KMeans\n",
    "import utils\n",
    "import pandas as pd\n",
    "import numpy as np\n",
    "from itertools import cycle, islice\n",
    "import matplotlib.pyplot as plt\n",
    "from pandas.tools.plotting import parallel_coordinates\n",
    "\n",
    "%matplotlib inline"
   ]
  },
  {
   "cell_type": "markdown",
   "metadata": {},
   "source": [
    "# k-Means Clustering "
   ]
  },
  {
   "cell_type": "markdown",
   "metadata": {},
   "source": [
    "I will try to perform k-means clustering using.\n",
    "\n",
    "I will use cluster analysis to generate a big picture model of the weather and number of taxi rides in NYC. In this dataset."
   ]
  },
  {
   "cell_type": "markdown",
   "metadata": {},
   "source": [
    "# Select Features of Interest for Clustering "
   ]
  },
  {
   "cell_type": "code",
   "execution_count": 8,
   "metadata": {
    "collapsed": true
   },
   "outputs": [],
   "source": [
    "features=['humidity','pressure','wind_speed','wind_direction','temperature','rides']"
   ]
  },
  {
   "cell_type": "code",
   "execution_count": 9,
   "metadata": {},
   "outputs": [
    {
     "data": {
      "text/plain": [
       "(8760, 18)"
      ]
     },
     "execution_count": 9,
     "metadata": {},
     "output_type": "execute_result"
    }
   ],
   "source": [
    "total_data.shape"
   ]
  },
  {
   "cell_type": "code",
   "execution_count": 10,
   "metadata": {
    "collapsed": true
   },
   "outputs": [],
   "source": [
    "total_data = total_data[features]"
   ]
  },
  {
   "cell_type": "code",
   "execution_count": 11,
   "metadata": {},
   "outputs": [
    {
     "data": {
      "text/html": [
       "<div>\n",
       "<style>\n",
       "    .dataframe thead tr:only-child th {\n",
       "        text-align: right;\n",
       "    }\n",
       "\n",
       "    .dataframe thead th {\n",
       "        text-align: left;\n",
       "    }\n",
       "\n",
       "    .dataframe tbody tr th {\n",
       "        vertical-align: top;\n",
       "    }\n",
       "</style>\n",
       "<table border=\"1\" class=\"dataframe\">\n",
       "  <thead>\n",
       "    <tr style=\"text-align: right;\">\n",
       "      <th></th>\n",
       "      <th>humidity</th>\n",
       "      <th>pressure</th>\n",
       "      <th>wind_speed</th>\n",
       "      <th>wind_direction</th>\n",
       "      <th>temperature</th>\n",
       "      <th>rides</th>\n",
       "    </tr>\n",
       "  </thead>\n",
       "  <tbody>\n",
       "    <tr>\n",
       "      <th>0</th>\n",
       "      <td>59.0</td>\n",
       "      <td>1022.0</td>\n",
       "      <td>2.0</td>\n",
       "      <td>249.0</td>\n",
       "      <td>-5.100</td>\n",
       "      <td>46</td>\n",
       "    </tr>\n",
       "    <tr>\n",
       "      <th>1</th>\n",
       "      <td>59.0</td>\n",
       "      <td>1022.0</td>\n",
       "      <td>2.0</td>\n",
       "      <td>249.0</td>\n",
       "      <td>-5.100</td>\n",
       "      <td>46</td>\n",
       "    </tr>\n",
       "    <tr>\n",
       "      <th>2</th>\n",
       "      <td>58.0</td>\n",
       "      <td>1021.0</td>\n",
       "      <td>2.0</td>\n",
       "      <td>246.0</td>\n",
       "      <td>-5.964</td>\n",
       "      <td>46</td>\n",
       "    </tr>\n",
       "    <tr>\n",
       "      <th>3</th>\n",
       "      <td>58.0</td>\n",
       "      <td>1021.0</td>\n",
       "      <td>2.0</td>\n",
       "      <td>246.0</td>\n",
       "      <td>-5.964</td>\n",
       "      <td>46</td>\n",
       "    </tr>\n",
       "    <tr>\n",
       "      <th>4</th>\n",
       "      <td>58.0</td>\n",
       "      <td>1021.0</td>\n",
       "      <td>2.0</td>\n",
       "      <td>246.0</td>\n",
       "      <td>-5.964</td>\n",
       "      <td>46</td>\n",
       "    </tr>\n",
       "  </tbody>\n",
       "</table>\n",
       "</div>"
      ],
      "text/plain": [
       "   humidity  pressure  wind_speed  wind_direction  temperature  rides\n",
       "0      59.0    1022.0         2.0           249.0       -5.100     46\n",
       "1      59.0    1022.0         2.0           249.0       -5.100     46\n",
       "2      58.0    1021.0         2.0           246.0       -5.964     46\n",
       "3      58.0    1021.0         2.0           246.0       -5.964     46\n",
       "4      58.0    1021.0         2.0           246.0       -5.964     46"
      ]
     },
     "execution_count": 11,
     "metadata": {},
     "output_type": "execute_result"
    }
   ],
   "source": [
    "total_data.head()"
   ]
  },
  {
   "cell_type": "code",
   "execution_count": 12,
   "metadata": {},
   "outputs": [
    {
     "data": {
      "text/plain": [
       "Index(['humidity', 'pressure', 'wind_speed', 'wind_direction', 'temperature',\n",
       "       'rides'],\n",
       "      dtype='object')"
      ]
     },
     "execution_count": 12,
     "metadata": {},
     "output_type": "execute_result"
    }
   ],
   "source": [
    "total_data.columns"
   ]
  },
  {
   "cell_type": "code",
   "execution_count": 13,
   "metadata": {},
   "outputs": [
    {
     "data": {
      "text/html": [
       "<div>\n",
       "<style>\n",
       "    .dataframe thead tr:only-child th {\n",
       "        text-align: right;\n",
       "    }\n",
       "\n",
       "    .dataframe thead th {\n",
       "        text-align: left;\n",
       "    }\n",
       "\n",
       "    .dataframe tbody tr th {\n",
       "        vertical-align: top;\n",
       "    }\n",
       "</style>\n",
       "<table border=\"1\" class=\"dataframe\">\n",
       "  <thead>\n",
       "    <tr style=\"text-align: right;\">\n",
       "      <th></th>\n",
       "      <th>humidity</th>\n",
       "      <th>pressure</th>\n",
       "      <th>wind_speed</th>\n",
       "      <th>wind_direction</th>\n",
       "      <th>temperature</th>\n",
       "      <th>rides</th>\n",
       "    </tr>\n",
       "  </thead>\n",
       "  <tbody>\n",
       "    <tr>\n",
       "      <th>0</th>\n",
       "      <td>59.0</td>\n",
       "      <td>1022.0</td>\n",
       "      <td>2.0</td>\n",
       "      <td>249.0</td>\n",
       "      <td>-5.100</td>\n",
       "      <td>46</td>\n",
       "    </tr>\n",
       "    <tr>\n",
       "      <th>1</th>\n",
       "      <td>59.0</td>\n",
       "      <td>1022.0</td>\n",
       "      <td>2.0</td>\n",
       "      <td>249.0</td>\n",
       "      <td>-5.100</td>\n",
       "      <td>46</td>\n",
       "    </tr>\n",
       "    <tr>\n",
       "      <th>2</th>\n",
       "      <td>58.0</td>\n",
       "      <td>1021.0</td>\n",
       "      <td>2.0</td>\n",
       "      <td>246.0</td>\n",
       "      <td>-5.964</td>\n",
       "      <td>46</td>\n",
       "    </tr>\n",
       "    <tr>\n",
       "      <th>3</th>\n",
       "      <td>58.0</td>\n",
       "      <td>1021.0</td>\n",
       "      <td>2.0</td>\n",
       "      <td>246.0</td>\n",
       "      <td>-5.964</td>\n",
       "      <td>46</td>\n",
       "    </tr>\n",
       "    <tr>\n",
       "      <th>4</th>\n",
       "      <td>58.0</td>\n",
       "      <td>1021.0</td>\n",
       "      <td>2.0</td>\n",
       "      <td>246.0</td>\n",
       "      <td>-5.964</td>\n",
       "      <td>46</td>\n",
       "    </tr>\n",
       "  </tbody>\n",
       "</table>\n",
       "</div>"
      ],
      "text/plain": [
       "   humidity  pressure  wind_speed  wind_direction  temperature  rides\n",
       "0      59.0    1022.0         2.0           249.0       -5.100     46\n",
       "1      59.0    1022.0         2.0           249.0       -5.100     46\n",
       "2      58.0    1021.0         2.0           246.0       -5.964     46\n",
       "3      58.0    1021.0         2.0           246.0       -5.964     46\n",
       "4      58.0    1021.0         2.0           246.0       -5.964     46"
      ]
     },
     "execution_count": 13,
     "metadata": {},
     "output_type": "execute_result"
    }
   ],
   "source": [
    "total_data.head()"
   ]
  },
  {
   "cell_type": "markdown",
   "metadata": {},
   "source": [
    "Scale the Features using StandardScaler "
   ]
  },
  {
   "cell_type": "code",
   "execution_count": 14,
   "metadata": {},
   "outputs": [
    {
     "data": {
      "text/plain": [
       "array([[-0.63191976,  0.21586309, -0.45144089,  0.45797614, -1.49667141,\n",
       "         1.22183269],\n",
       "       [-0.63191976,  0.21586309, -0.45144089,  0.45797614, -1.49667141,\n",
       "         1.22183269],\n",
       "       [-0.68649226,  0.10864146, -0.45144089,  0.42780799, -1.57321824,\n",
       "         1.22183269],\n",
       "       ..., \n",
       "       [-0.35905721, -0.32024507,  1.41336054,  1.04122701, -0.34697782,\n",
       "        -0.22430431],\n",
       "       [-0.52277474, -0.21302343,  1.41336054,  0.97083466, -0.4060563 ,\n",
       "        -0.22430431],\n",
       "       [ 0.13209538,  0.21586309,  0.79176006,  0.96077861, -0.49165311,\n",
       "         0.03862969]])"
      ]
     },
     "execution_count": 14,
     "metadata": {},
     "output_type": "execute_result"
    }
   ],
   "source": [
    "X = StandardScaler().fit_transform(total_data)\n",
    "X"
   ]
  },
  {
   "cell_type": "markdown",
   "metadata": {
    "collapsed": true
   },
   "source": [
    "deploying K-means "
   ]
  },
  {
   "cell_type": "code",
   "execution_count": 16,
   "metadata": {},
   "outputs": [
    {
     "name": "stdout",
     "output_type": "stream",
     "text": [
      "model\n",
      " KMeans(algorithm='auto', copy_x=True, init='k-means++', max_iter=300,\n",
      "    n_clusters=12, n_init=10, n_jobs=1, precompute_distances='auto',\n",
      "    random_state=None, tol=0.0001, verbose=0)\n"
     ]
    }
   ],
   "source": [
    "kmeans = KMeans(n_clusters=12)\n",
    "model = kmeans.fit(X)\n",
    "print(\"model\\n\", model)"
   ]
  },
  {
   "cell_type": "markdown",
   "metadata": {},
   "source": [
    "We achived to 12 cluster. Now the main question is that \" What are the centers of 12 clusters ? \"\n",
    "we can do it simply using the predefined function. "
   ]
  },
  {
   "cell_type": "code",
   "execution_count": 17,
   "metadata": {},
   "outputs": [
    {
     "data": {
      "text/plain": [
       "array([[-0.80057448,  0.95412736, -0.08028018,  0.44724079, -0.0494205 ,\n",
       "        -0.2848838 ],\n",
       "       [ 0.3798739 , -0.8549813 ,  0.01353584,  0.18467132,  0.81191045,\n",
       "        -0.42124602],\n",
       "       [ 0.86060199, -0.33682868, -0.50779934, -1.50554126, -0.29672614,\n",
       "         0.55485678],\n",
       "       [ 0.7273969 ,  1.74056226, -0.49412121, -0.772987  , -0.85753819,\n",
       "         0.90566381],\n",
       "       [ 0.22700409,  0.15450766, -0.62057202,  0.5690017 , -1.79561594,\n",
       "         1.70971724],\n",
       "       [-1.36139722, -0.38448013,  0.03221537,  0.4494262 ,  1.16121426,\n",
       "        -1.44424604],\n",
       "       [-1.01746238, -0.68184677,  2.09535944,  0.7829046 ,  0.21319316,\n",
       "        -0.69721294],\n",
       "       [ 0.37990467, -1.29658257,  0.05229123,  0.68569247, -0.96407875,\n",
       "         0.82270833],\n",
       "       [-0.73538628,  0.31815833, -0.3254408 , -1.3256273 ,  0.61496121,\n",
       "        -0.76527326],\n",
       "       [ 0.87824596, -0.0666635 , -0.70286853,  0.36602867,  0.31227149,\n",
       "         0.15347171],\n",
       "       [ 0.25130341,  0.17505297,  1.67493237, -1.38389749,  0.13139518,\n",
       "        -0.16400976],\n",
       "       [ 0.61806569,  0.78251695,  0.72911815,  1.04641094, -1.05951299,\n",
       "         0.95507698]])"
      ]
     },
     "execution_count": 17,
     "metadata": {},
     "output_type": "execute_result"
    }
   ],
   "source": [
    "centers = model.cluster_centers_\n",
    "centers"
   ]
  },
  {
   "cell_type": "code",
   "execution_count": 18,
   "metadata": {
    "collapsed": true
   },
   "outputs": [],
   "source": [
    "# Function that creates a DataFrame with a column for Cluster Number\n",
    "\n",
    "def pd_centers(featuresUsed, centers):\n",
    "\tcolNames = list(featuresUsed)\n",
    "\tcolNames.append('prediction')\n",
    "\n",
    "\t# Zip with a column called 'prediction' (index)\n",
    "\tZ = [np.append(A, index) for index, A in enumerate(centers)]\n",
    "\n",
    "\t# Convert to pandas data frame for plotting\n",
    "\tP = pd.DataFrame(Z, columns=colNames)\n",
    "\tP['prediction'] = P['prediction'].astype(int)\n",
    "\treturn P"
   ]
  },
  {
   "cell_type": "code",
   "execution_count": 19,
   "metadata": {
    "collapsed": true
   },
   "outputs": [],
   "source": [
    "# Function that creates Parallel Plots\n",
    "\n",
    "def parallel_plot(data):\n",
    "\tmy_colors = list(islice(cycle(['b', 'r', 'g', 'y', 'k']), None, len(data)))\n",
    "\tplt.figure(figsize=(15,8)).gca().axes.set_ylim([-3,+3])\n",
    "\tparallel_coordinates(data, 'prediction', color = my_colors, marker='o')"
   ]
  },
  {
   "cell_type": "code",
   "execution_count": 20,
   "metadata": {},
   "outputs": [
    {
     "data": {
      "text/html": [
       "<div>\n",
       "<style>\n",
       "    .dataframe thead tr:only-child th {\n",
       "        text-align: right;\n",
       "    }\n",
       "\n",
       "    .dataframe thead th {\n",
       "        text-align: left;\n",
       "    }\n",
       "\n",
       "    .dataframe tbody tr th {\n",
       "        vertical-align: top;\n",
       "    }\n",
       "</style>\n",
       "<table border=\"1\" class=\"dataframe\">\n",
       "  <thead>\n",
       "    <tr style=\"text-align: right;\">\n",
       "      <th></th>\n",
       "      <th>humidity</th>\n",
       "      <th>pressure</th>\n",
       "      <th>wind_speed</th>\n",
       "      <th>wind_direction</th>\n",
       "      <th>temperature</th>\n",
       "      <th>rides</th>\n",
       "    </tr>\n",
       "  </thead>\n",
       "  <tbody>\n",
       "    <tr>\n",
       "      <th>0</th>\n",
       "      <td>59.0</td>\n",
       "      <td>1022.0</td>\n",
       "      <td>2.0</td>\n",
       "      <td>249.0</td>\n",
       "      <td>-5.100</td>\n",
       "      <td>46</td>\n",
       "    </tr>\n",
       "    <tr>\n",
       "      <th>1</th>\n",
       "      <td>59.0</td>\n",
       "      <td>1022.0</td>\n",
       "      <td>2.0</td>\n",
       "      <td>249.0</td>\n",
       "      <td>-5.100</td>\n",
       "      <td>46</td>\n",
       "    </tr>\n",
       "    <tr>\n",
       "      <th>2</th>\n",
       "      <td>58.0</td>\n",
       "      <td>1021.0</td>\n",
       "      <td>2.0</td>\n",
       "      <td>246.0</td>\n",
       "      <td>-5.964</td>\n",
       "      <td>46</td>\n",
       "    </tr>\n",
       "    <tr>\n",
       "      <th>3</th>\n",
       "      <td>58.0</td>\n",
       "      <td>1021.0</td>\n",
       "      <td>2.0</td>\n",
       "      <td>246.0</td>\n",
       "      <td>-5.964</td>\n",
       "      <td>46</td>\n",
       "    </tr>\n",
       "    <tr>\n",
       "      <th>4</th>\n",
       "      <td>58.0</td>\n",
       "      <td>1021.0</td>\n",
       "      <td>2.0</td>\n",
       "      <td>246.0</td>\n",
       "      <td>-5.964</td>\n",
       "      <td>46</td>\n",
       "    </tr>\n",
       "  </tbody>\n",
       "</table>\n",
       "</div>"
      ],
      "text/plain": [
       "   humidity  pressure  wind_speed  wind_direction  temperature  rides\n",
       "0      59.0    1022.0         2.0           249.0       -5.100     46\n",
       "1      59.0    1022.0         2.0           249.0       -5.100     46\n",
       "2      58.0    1021.0         2.0           246.0       -5.964     46\n",
       "3      58.0    1021.0         2.0           246.0       -5.964     46\n",
       "4      58.0    1021.0         2.0           246.0       -5.964     46"
      ]
     },
     "execution_count": 20,
     "metadata": {},
     "output_type": "execute_result"
    }
   ],
   "source": [
    "total_data.head()"
   ]
  },
  {
   "cell_type": "code",
   "execution_count": 21,
   "metadata": {},
   "outputs": [
    {
     "data": {
      "text/html": [
       "<div>\n",
       "<style>\n",
       "    .dataframe thead tr:only-child th {\n",
       "        text-align: right;\n",
       "    }\n",
       "\n",
       "    .dataframe thead th {\n",
       "        text-align: left;\n",
       "    }\n",
       "\n",
       "    .dataframe tbody tr th {\n",
       "        vertical-align: top;\n",
       "    }\n",
       "</style>\n",
       "<table border=\"1\" class=\"dataframe\">\n",
       "  <thead>\n",
       "    <tr style=\"text-align: right;\">\n",
       "      <th></th>\n",
       "      <th>humidity</th>\n",
       "      <th>pressure</th>\n",
       "      <th>wind_speed</th>\n",
       "      <th>wind_direction</th>\n",
       "      <th>temperature</th>\n",
       "      <th>rides</th>\n",
       "      <th>prediction</th>\n",
       "    </tr>\n",
       "  </thead>\n",
       "  <tbody>\n",
       "    <tr>\n",
       "      <th>0</th>\n",
       "      <td>-0.800574</td>\n",
       "      <td>0.954127</td>\n",
       "      <td>-0.080280</td>\n",
       "      <td>0.447241</td>\n",
       "      <td>-0.049420</td>\n",
       "      <td>-0.284884</td>\n",
       "      <td>0</td>\n",
       "    </tr>\n",
       "    <tr>\n",
       "      <th>1</th>\n",
       "      <td>0.379874</td>\n",
       "      <td>-0.854981</td>\n",
       "      <td>0.013536</td>\n",
       "      <td>0.184671</td>\n",
       "      <td>0.811910</td>\n",
       "      <td>-0.421246</td>\n",
       "      <td>1</td>\n",
       "    </tr>\n",
       "    <tr>\n",
       "      <th>2</th>\n",
       "      <td>0.860602</td>\n",
       "      <td>-0.336829</td>\n",
       "      <td>-0.507799</td>\n",
       "      <td>-1.505541</td>\n",
       "      <td>-0.296726</td>\n",
       "      <td>0.554857</td>\n",
       "      <td>2</td>\n",
       "    </tr>\n",
       "    <tr>\n",
       "      <th>3</th>\n",
       "      <td>0.727397</td>\n",
       "      <td>1.740562</td>\n",
       "      <td>-0.494121</td>\n",
       "      <td>-0.772987</td>\n",
       "      <td>-0.857538</td>\n",
       "      <td>0.905664</td>\n",
       "      <td>3</td>\n",
       "    </tr>\n",
       "    <tr>\n",
       "      <th>4</th>\n",
       "      <td>0.227004</td>\n",
       "      <td>0.154508</td>\n",
       "      <td>-0.620572</td>\n",
       "      <td>0.569002</td>\n",
       "      <td>-1.795616</td>\n",
       "      <td>1.709717</td>\n",
       "      <td>4</td>\n",
       "    </tr>\n",
       "    <tr>\n",
       "      <th>5</th>\n",
       "      <td>-1.361397</td>\n",
       "      <td>-0.384480</td>\n",
       "      <td>0.032215</td>\n",
       "      <td>0.449426</td>\n",
       "      <td>1.161214</td>\n",
       "      <td>-1.444246</td>\n",
       "      <td>5</td>\n",
       "    </tr>\n",
       "    <tr>\n",
       "      <th>6</th>\n",
       "      <td>-1.017462</td>\n",
       "      <td>-0.681847</td>\n",
       "      <td>2.095359</td>\n",
       "      <td>0.782905</td>\n",
       "      <td>0.213193</td>\n",
       "      <td>-0.697213</td>\n",
       "      <td>6</td>\n",
       "    </tr>\n",
       "    <tr>\n",
       "      <th>7</th>\n",
       "      <td>0.379905</td>\n",
       "      <td>-1.296583</td>\n",
       "      <td>0.052291</td>\n",
       "      <td>0.685692</td>\n",
       "      <td>-0.964079</td>\n",
       "      <td>0.822708</td>\n",
       "      <td>7</td>\n",
       "    </tr>\n",
       "    <tr>\n",
       "      <th>8</th>\n",
       "      <td>-0.735386</td>\n",
       "      <td>0.318158</td>\n",
       "      <td>-0.325441</td>\n",
       "      <td>-1.325627</td>\n",
       "      <td>0.614961</td>\n",
       "      <td>-0.765273</td>\n",
       "      <td>8</td>\n",
       "    </tr>\n",
       "    <tr>\n",
       "      <th>9</th>\n",
       "      <td>0.878246</td>\n",
       "      <td>-0.066664</td>\n",
       "      <td>-0.702869</td>\n",
       "      <td>0.366029</td>\n",
       "      <td>0.312271</td>\n",
       "      <td>0.153472</td>\n",
       "      <td>9</td>\n",
       "    </tr>\n",
       "    <tr>\n",
       "      <th>10</th>\n",
       "      <td>0.251303</td>\n",
       "      <td>0.175053</td>\n",
       "      <td>1.674932</td>\n",
       "      <td>-1.383897</td>\n",
       "      <td>0.131395</td>\n",
       "      <td>-0.164010</td>\n",
       "      <td>10</td>\n",
       "    </tr>\n",
       "    <tr>\n",
       "      <th>11</th>\n",
       "      <td>0.618066</td>\n",
       "      <td>0.782517</td>\n",
       "      <td>0.729118</td>\n",
       "      <td>1.046411</td>\n",
       "      <td>-1.059513</td>\n",
       "      <td>0.955077</td>\n",
       "      <td>11</td>\n",
       "    </tr>\n",
       "  </tbody>\n",
       "</table>\n",
       "</div>"
      ],
      "text/plain": [
       "    humidity  pressure  wind_speed  wind_direction  temperature     rides  \\\n",
       "0  -0.800574  0.954127   -0.080280        0.447241    -0.049420 -0.284884   \n",
       "1   0.379874 -0.854981    0.013536        0.184671     0.811910 -0.421246   \n",
       "2   0.860602 -0.336829   -0.507799       -1.505541    -0.296726  0.554857   \n",
       "3   0.727397  1.740562   -0.494121       -0.772987    -0.857538  0.905664   \n",
       "4   0.227004  0.154508   -0.620572        0.569002    -1.795616  1.709717   \n",
       "5  -1.361397 -0.384480    0.032215        0.449426     1.161214 -1.444246   \n",
       "6  -1.017462 -0.681847    2.095359        0.782905     0.213193 -0.697213   \n",
       "7   0.379905 -1.296583    0.052291        0.685692    -0.964079  0.822708   \n",
       "8  -0.735386  0.318158   -0.325441       -1.325627     0.614961 -0.765273   \n",
       "9   0.878246 -0.066664   -0.702869        0.366029     0.312271  0.153472   \n",
       "10  0.251303  0.175053    1.674932       -1.383897     0.131395 -0.164010   \n",
       "11  0.618066  0.782517    0.729118        1.046411    -1.059513  0.955077   \n",
       "\n",
       "    prediction  \n",
       "0            0  \n",
       "1            1  \n",
       "2            2  \n",
       "3            3  \n",
       "4            4  \n",
       "5            5  \n",
       "6            6  \n",
       "7            7  \n",
       "8            8  \n",
       "9            9  \n",
       "10          10  \n",
       "11          11  "
      ]
     },
     "execution_count": 21,
     "metadata": {},
     "output_type": "execute_result"
    }
   ],
   "source": [
    "P = pd_centers(features, centers)\n",
    "P"
   ]
  },
  {
   "cell_type": "markdown",
   "metadata": {},
   "source": [
    "here we can plot a cold day."
   ]
  },
  {
   "cell_type": "code",
   "execution_count": 22,
   "metadata": {},
   "outputs": [
    {
     "name": "stderr",
     "output_type": "stream",
     "text": [
      "C:\\ProgramData\\Anaconda3\\lib\\site-packages\\ipykernel_launcher.py:6: FutureWarning: 'pandas.tools.plotting.parallel_coordinates' is deprecated, import 'pandas.plotting.parallel_coordinates' instead.\n",
      "  \n"
     ]
    },
    {
     "data": {
      "image/png": "[encoded data removed]",
      "text/plain": [
       "<matplotlib.figure.Figure at 0x1f91b648b38>"
      ]
     },
     "metadata": {},
     "output_type": "display_data"
    }
   ],
   "source": [
    "parallel_plot(P[(P['humidity'] > 0.5) & (P['temperature'] < 0.5)])"
   ]
  },
  {
   "cell_type": "code",
   "execution_count": 23,
   "metadata": {},
   "outputs": [
    {
     "ename": "SyntaxError",
     "evalue": "invalid syntax (<ipython-input-23-f523bc1b911b>, line 1)",
     "output_type": "error",
     "traceback": [
      "\u001b[1;36m  File \u001b[1;32m\"<ipython-input-23-f523bc1b911b>\"\u001b[1;36m, line \u001b[1;32m1\u001b[0m\n\u001b[1;33m    we can plot a cold and windy day\u001b[0m\n\u001b[1;37m         ^\u001b[0m\n\u001b[1;31mSyntaxError\u001b[0m\u001b[1;31m:\u001b[0m invalid syntax\n"
     ]
    }
   ],
   "source": [
    "we can plot a cold and windy day"
   ]
  },
  {
   "cell_type": "code",
   "execution_count": 24,
   "metadata": {},
   "outputs": [
    {
     "name": "stderr",
     "output_type": "stream",
     "text": [
      "C:\\ProgramData\\Anaconda3\\lib\\site-packages\\ipykernel_launcher.py:6: FutureWarning: 'pandas.tools.plotting.parallel_coordinates' is deprecated, import 'pandas.plotting.parallel_coordinates' instead.\n",
      "  \n"
     ]
    },
    {
     "data": {
      "image/png": "[encoded data removed]",
      "text/plain": [
       "<matplotlib.figure.Figure at 0x1f91b85a5c0>"
      ]
     },
     "metadata": {},
     "output_type": "display_data"
    }
   ],
   "source": [
    "parallel_plot(P[(P['wind_speed'] > 0.5) & (P['temperature'] < 0.5)])"
   ]
  },
  {
   "cell_type": "code",
   "execution_count": null,
   "metadata": {
    "collapsed": true
   },
   "outputs": [],
   "source": []
  },
  {
   "cell_type": "code",
   "execution_count": null,
   "metadata": {
    "collapsed": true
   },
   "outputs": [],
   "source": []
  },
  {
   "cell_type": "code",
   "execution_count": null,
   "metadata": {
    "collapsed": true
   },
   "outputs": [],
   "source": []
  }
 ],
 "metadata": {
  "kernelspec": {
   "display_name": "Python 3",
   "language": "python",
   "name": "python3"
  },
  "language_info": {
   "codemirror_mode": {
    "name": "ipython",
    "version": 3
   },
   "file_extension": ".py",
   "mimetype": "text/x-python",
   "name": "python",
   "nbconvert_exporter": "python",
   "pygments_lexer": "ipython3",
   "version": "3.6.3"
  }
 },
 "nbformat": 4,
 "nbformat_minor": 2
}
