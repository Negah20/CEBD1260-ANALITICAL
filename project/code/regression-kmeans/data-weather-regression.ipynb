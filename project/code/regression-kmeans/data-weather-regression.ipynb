{
 "cells": [
  {
   "cell_type": "markdown",
   "metadata": {},
   "source": [
    ".pandas is a software library written for the Python programming language for data manipulation and analysis.\n",
    ".NumPymis a library for the Python programming language, adding support for large, multi-dimensional arrays and matrices, along with a large collection of high-level mathematical functions to operate on these arrays.\n",
    ".Matplotlib is a plotting library for Python. It is used along with NumPy to provide an environment that is an effective open source alternative for MatLab.\n",
    ".matplotlib.pyplot is a collection of command style functions that make matplotlib work like MATLAB.\n",
    ".Seaborn is a Python visualization library based on matplotlib. It provides a high-level interface for drawing attractive statistical graphics."
   ]
  },
  {
   "cell_type": "code",
   "execution_count": 28,
   "metadata": {
    "collapsed": true
   },
   "outputs": [],
   "source": [
    "from sklearn.metrics import mean_absolute_error\n",
    "from sklearn.metrics import mean_squared_error\n",
    "import pandas as pd\n",
    "import numpy  as np\n",
    "import matplotlib as mpl\n",
    "import matplotlib.pyplot as plt\n",
    "import seaborn as sns\n",
    "mpl.style.use('seaborn')\n"
   ]
  },
  {
   "cell_type": "markdown",
   "metadata": {},
   "source": [
    "# Problem definition"
   ]
  },
  {
   "cell_type": "raw",
   "metadata": {},
   "source": [
    " We will create a model that attempts to predict the the taxi rides in New York for a given month, day and hour and temperature."
   ]
  },
  {
   "cell_type": "markdown",
   "metadata": {},
   "source": [
    "# preparing data"
   ]
  },
  {
   "cell_type": "code",
   "execution_count": 29,
   "metadata": {},
   "outputs": [
    {
     "data": {
      "text/html": [
       "<div>\n",
       "<style>\n",
       "    .dataframe thead tr:only-child th {\n",
       "        text-align: right;\n",
       "    }\n",
       "\n",
       "    .dataframe thead th {\n",
       "        text-align: left;\n",
       "    }\n",
       "\n",
       "    .dataframe tbody tr th {\n",
       "        vertical-align: top;\n",
       "    }\n",
       "</style>\n",
       "<table border=\"1\" class=\"dataframe\">\n",
       "  <thead>\n",
       "    <tr style=\"text-align: right;\">\n",
       "      <th></th>\n",
       "      <th>datetime</th>\n",
       "      <th>temperature</th>\n",
       "      <th>humidity</th>\n",
       "      <th>pressure</th>\n",
       "      <th>wind_speed</th>\n",
       "      <th>wind_direction</th>\n",
       "      <th>rides</th>\n",
       "      <th>date</th>\n",
       "      <th>hour</th>\n",
       "      <th>month</th>\n",
       "      <th>day</th>\n",
       "      <th>year</th>\n",
       "      <th>hour_sin</th>\n",
       "      <th>hour_cos</th>\n",
       "      <th>day_sin</th>\n",
       "      <th>day_cos</th>\n",
       "      <th>month_sin</th>\n",
       "      <th>month_cos</th>\n",
       "    </tr>\n",
       "  </thead>\n",
       "  <tbody>\n",
       "    <tr>\n",
       "      <th>7046</th>\n",
       "      <td>2015-10-21 14:00:00</td>\n",
       "      <td>13.960000</td>\n",
       "      <td>62.0</td>\n",
       "      <td>1027.0</td>\n",
       "      <td>3.0</td>\n",
       "      <td>270.0</td>\n",
       "      <td>33</td>\n",
       "      <td>2015-10-21</td>\n",
       "      <td>14</td>\n",
       "      <td>10</td>\n",
       "      <td>21</td>\n",
       "      <td>2015</td>\n",
       "      <td>-0.631088</td>\n",
       "      <td>-0.775711</td>\n",
       "      <td>0.353676</td>\n",
       "      <td>0.935368</td>\n",
       "      <td>-0.866025</td>\n",
       "      <td>5.000000e-01</td>\n",
       "    </tr>\n",
       "    <tr>\n",
       "      <th>7111</th>\n",
       "      <td>2015-10-24 07:00:00</td>\n",
       "      <td>3.990000</td>\n",
       "      <td>80.0</td>\n",
       "      <td>1028.0</td>\n",
       "      <td>3.0</td>\n",
       "      <td>48.0</td>\n",
       "      <td>43</td>\n",
       "      <td>2015-10-24</td>\n",
       "      <td>7</td>\n",
       "      <td>10</td>\n",
       "      <td>24</td>\n",
       "      <td>2015</td>\n",
       "      <td>0.942261</td>\n",
       "      <td>-0.334880</td>\n",
       "      <td>0.401488</td>\n",
       "      <td>0.915864</td>\n",
       "      <td>-0.866025</td>\n",
       "      <td>5.000000e-01</td>\n",
       "    </tr>\n",
       "    <tr>\n",
       "      <th>1781</th>\n",
       "      <td>2015-03-16 05:00:00</td>\n",
       "      <td>1.957667</td>\n",
       "      <td>74.0</td>\n",
       "      <td>1029.0</td>\n",
       "      <td>4.0</td>\n",
       "      <td>330.0</td>\n",
       "      <td>43</td>\n",
       "      <td>2015-03-16</td>\n",
       "      <td>5</td>\n",
       "      <td>3</td>\n",
       "      <td>16</td>\n",
       "      <td>2015</td>\n",
       "      <td>0.979084</td>\n",
       "      <td>0.203456</td>\n",
       "      <td>0.271958</td>\n",
       "      <td>0.962309</td>\n",
       "      <td>1.000000</td>\n",
       "      <td>6.123234e-17</td>\n",
       "    </tr>\n",
       "    <tr>\n",
       "      <th>5117</th>\n",
       "      <td>2015-08-02 05:00:00</td>\n",
       "      <td>21.970000</td>\n",
       "      <td>82.0</td>\n",
       "      <td>1012.0</td>\n",
       "      <td>2.0</td>\n",
       "      <td>325.0</td>\n",
       "      <td>35</td>\n",
       "      <td>2015-08-02</td>\n",
       "      <td>5</td>\n",
       "      <td>8</td>\n",
       "      <td>2</td>\n",
       "      <td>2015</td>\n",
       "      <td>0.979084</td>\n",
       "      <td>0.203456</td>\n",
       "      <td>0.034422</td>\n",
       "      <td>0.999407</td>\n",
       "      <td>-0.866025</td>\n",
       "      <td>-5.000000e-01</td>\n",
       "    </tr>\n",
       "    <tr>\n",
       "      <th>1331</th>\n",
       "      <td>2015-02-25 11:00:00</td>\n",
       "      <td>-11.768000</td>\n",
       "      <td>78.0</td>\n",
       "      <td>1007.0</td>\n",
       "      <td>3.0</td>\n",
       "      <td>276.0</td>\n",
       "      <td>52</td>\n",
       "      <td>2015-02-25</td>\n",
       "      <td>11</td>\n",
       "      <td>2</td>\n",
       "      <td>25</td>\n",
       "      <td>2015</td>\n",
       "      <td>0.136167</td>\n",
       "      <td>-0.990686</td>\n",
       "      <td>0.417194</td>\n",
       "      <td>0.908818</td>\n",
       "      <td>0.866025</td>\n",
       "      <td>5.000000e-01</td>\n",
       "    </tr>\n",
       "  </tbody>\n",
       "</table>\n",
       "</div>"
      ],
      "text/plain": [
       "                datetime  temperature  humidity  pressure  wind_speed  \\\n",
       "7046 2015-10-21 14:00:00    13.960000      62.0    1027.0         3.0   \n",
       "7111 2015-10-24 07:00:00     3.990000      80.0    1028.0         3.0   \n",
       "1781 2015-03-16 05:00:00     1.957667      74.0    1029.0         4.0   \n",
       "5117 2015-08-02 05:00:00    21.970000      82.0    1012.0         2.0   \n",
       "1331 2015-02-25 11:00:00   -11.768000      78.0    1007.0         3.0   \n",
       "\n",
       "      wind_direction  rides        date  hour  month  day  year  hour_sin  \\\n",
       "7046           270.0     33  2015-10-21    14     10   21  2015 -0.631088   \n",
       "7111            48.0     43  2015-10-24     7     10   24  2015  0.942261   \n",
       "1781           330.0     43  2015-03-16     5      3   16  2015  0.979084   \n",
       "5117           325.0     35  2015-08-02     5      8    2  2015  0.979084   \n",
       "1331           276.0     52  2015-02-25    11      2   25  2015  0.136167   \n",
       "\n",
       "      hour_cos   day_sin   day_cos  month_sin     month_cos  \n",
       "7046 -0.775711  0.353676  0.935368  -0.866025  5.000000e-01  \n",
       "7111 -0.334880  0.401488  0.915864  -0.866025  5.000000e-01  \n",
       "1781  0.203456  0.271958  0.962309   1.000000  6.123234e-17  \n",
       "5117  0.203456  0.034422  0.999407  -0.866025 -5.000000e-01  \n",
       "1331 -0.990686  0.417194  0.908818   0.866025  5.000000e-01  "
      ]
     },
     "execution_count": 29,
     "metadata": {},
     "output_type": "execute_result"
    }
   ],
   "source": [
    "total_data=pd.read_csv(\"../../data/Processed/New York_Weather_cyclical_taxi.csv\", parse_dates=['datetime'])\n",
    "total_data.sample(5)"
   ]
  },
  {
   "cell_type": "markdown",
   "metadata": {},
   "source": [
    "For each city we have timeseries in a column. We are going to chose New York as our chosen city and  our chosen features. "
   ]
  },
  {
   "cell_type": "markdown",
   "metadata": {},
   "source": [
    "# feature engineering "
   ]
  },
  {
   "cell_type": "code",
   "execution_count": 30,
   "metadata": {
    "collapsed": true
   },
   "outputs": [],
   "source": [
    "def get_encode_feature(total_data):\n",
    "        return total_data[['day_cos','hour_cos','hour_sin','day_sin','month_sin','month_cos','temperature']]"
   ]
  },
  {
   "cell_type": "code",
   "execution_count": 31,
   "metadata": {
    "collapsed": true
   },
   "outputs": [],
   "source": [
    "def get_unencoded_feature(total_data):\n",
    "    return total_data[['month', 'day', 'hour']]"
   ]
  },
  {
   "cell_type": "markdown",
   "metadata": {},
   "source": [
    "Let's split our data into training and test sets."
   ]
  },
  {
   "cell_type": "code",
   "execution_count": 32,
   "metadata": {
    "collapsed": true
   },
   "outputs": [],
   "source": [
    "from sklearn.model_selection import train_test_split\n",
    "\n",
    "data_train, data_test = train_test_split(total_data, test_size=0.4)\n",
    "data_test, data_val = train_test_split(data_test, test_size=0.5)"
   ]
  },
  {
   "cell_type": "code",
   "execution_count": 33,
   "metadata": {},
   "outputs": [
    {
     "name": "stdout",
     "output_type": "stream",
     "text": [
      "X_train (5256, 3)\n",
      "y_train (5256,)\n",
      "X_test (1752, 3)\n",
      "y_test (1752,)\n"
     ]
    }
   ],
   "source": [
    "X_train=get_unencoded_feature(data_train)\n",
    "X_test=get_unencoded_feature(data_test)\n",
    "y_train=data_train.rides\n",
    "y_test=data_test.rides\n",
    "threshold = 0.8\n",
    "print('X_train', X_train.shape)\n",
    "print('y_train', y_train.shape)\n",
    "print('X_test', X_test.shape)\n",
    "print('y_test', y_test.shape)\n",
    "\n"
   ]
  },
  {
   "cell_type": "markdown",
   "metadata": {},
   "source": [
    "# Model Training / Evaluation with encoded feature"
   ]
  },
  {
   "cell_type": "code",
   "execution_count": 34,
   "metadata": {},
   "outputs": [
    {
     "name": "stdout",
     "output_type": "stream",
     "text": [
      "X_train (5256, 3)\n",
      "y_train (5256,)\n",
      "X_test (1752, 3)\n",
      "y_test (1752,)\n"
     ]
    }
   ],
   "source": [
    "X_train=get_unencoded_feature(data_train)\n",
    "X_test=get_unencoded_feature(data_test)\n",
    "y_train=data_train.rides\n",
    "y_test=data_test.rides\n",
    "threshold = 0.8\n",
    "print('X_train', X_train.shape)\n",
    "print('y_train', y_train.shape)\n",
    "print('X_test', X_test.shape)\n",
    "print('y_test', y_test.shape)\n"
   ]
  },
  {
   "cell_type": "code",
   "execution_count": 35,
   "metadata": {
    "collapsed": true
   },
   "outputs": [],
   "source": [
    "from sklearn.linear_model import LinearRegression\n",
    "from sklearn.ensemble import RandomForestRegressor\n",
    "model = LinearRegression()\n",
    "#model = RandomForestRegressor()\n",
    "model.fit(X_train, y_train)\n",
    "y_pred = model.predict(X_test)"
   ]
  },
  {
   "cell_type": "code",
   "execution_count": 36,
   "metadata": {},
   "outputs": [
    {
     "name": "stdout",
     "output_type": "stream",
     "text": [
      "MAE 5.23636277517\n",
      "RMSE 6.28124816736\n"
     ]
    }
   ],
   "source": [
    "print('MAE', mean_absolute_error(y_test, y_pred))\n",
    "print('RMSE', np.sqrt(mean_squared_error(y_test, y_pred)))"
   ]
  },
  {
   "cell_type": "code",
   "execution_count": 37,
   "metadata": {},
   "outputs": [
    {
     "data": {
      "text/plain": [
       "['../../model/regression.pkl']"
      ]
     },
     "execution_count": 37,
     "metadata": {},
     "output_type": "execute_result"
    }
   ],
   "source": [
    ">>> from sklearn.externals import joblib\n",
    ">>> joblib.dump(model, '../../model/regression.pkl') "
   ]
  },
  {
   "cell_type": "code",
   "execution_count": null,
   "metadata": {
    "collapsed": true
   },
   "outputs": [],
   "source": []
  },
  {
   "cell_type": "code",
   "execution_count": null,
   "metadata": {
    "collapsed": true
   },
   "outputs": [],
   "source": []
  }
 ],
 "metadata": {
  "kernelspec": {
   "display_name": "Python 3",
   "language": "python",
   "name": "python3"
  },
  "language_info": {
   "codemirror_mode": {
    "name": "ipython",
    "version": 3
   },
   "file_extension": ".py",
   "mimetype": "text/x-python",
   "name": "python",
   "nbconvert_exporter": "python",
   "pygments_lexer": "ipython3",
   "version": "3.6.3"
  }
 },
 "nbformat": 4,
 "nbformat_minor": 2
}
